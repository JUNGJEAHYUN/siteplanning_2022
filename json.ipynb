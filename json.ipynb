{
  "nbformat": 4,
  "nbformat_minor": 0,
  "metadata": {
    "colab": {
      "name": "json",
      "provenance": [],
      "authorship_tag": "ABX9TyPBlGSkDg+28nKZgVjzCTPJ",
      "include_colab_link": true
    },
    "kernelspec": {
      "name": "python3",
      "display_name": "Python 3"
    },
    "language_info": {
      "name": "python"
    }
  },
  "cells": [
    {
      "cell_type": "markdown",
      "metadata": {
        "id": "view-in-github",
        "colab_type": "text"
      },
      "source": [
        "<a href=\"https://colab.research.google.com/github/JUNGJEAHYUN/siteplanning_2022/blob/master/json.ipynb\" target=\"_parent\"><img src=\"https://colab.research.google.com/assets/colab-badge.svg\" alt=\"Open In Colab\"/></a>"
      ]
    },
    {
      "cell_type": "code",
      "execution_count": 1,
      "metadata": {
        "id": "HE1PFnOS2WhP"
      },
      "outputs": [],
      "source": [
        "from urllib.parse import urlencode, unquote\n",
        "import requests\n",
        "import json\n",
        "import urllib.request\n",
        "import pandas as pd\n",
        "from pandas.io.json import json_normalize"
      ]
    },
    {
      "cell_type": "code",
      "source": [
        "url = \"입력url\"\n",
        "queryString = \"?\" + urlencode(\n",
        "{\n",
        "  \"ServiceKey\": unquote(\"#내 서비스 key\"),\n",
        "  \"brtcCode\": \"26\",\n",
        "  \"signguCode\": \"710\",\n",
        "  \"numOfRows\": \"10000000000\",\n",
        "  \"pageNo\": 1,\n",
        "  \"dataType\": \"JSON\"\n",
        "}\n",
        ")"
      ],
      "metadata": {
        "id": "3aO_VGST3bWR"
      },
      "execution_count": 2,
      "outputs": []
    },
    {
      "cell_type": "code",
      "source": [
        "## URL 만들기\n",
        "queryURL = url + queryString"
      ],
      "metadata": {
        "id": "YHlvh0_u3eFv"
      },
      "execution_count": 4,
      "outputs": []
    },
    {
      "cell_type": "code",
      "source": [
        "## URL 불러오기 \n",
        "response = urllib.request.urlopen(queryURL)"
      ],
      "metadata": {
        "id": "tGX-AWCO3g-z"
      },
      "execution_count": 5,
      "outputs": []
    },
    {
      "cell_type": "code",
      "source": [
        "## json에 있는 데이터를  utf-8코드로 변환(한글일 경우 그대로 읽어오면 문자가 깨짐)\n",
        "json_str = response.read().decode(\"utf-8\")"
      ],
      "metadata": {
        "id": "x6I8VaGE3lcX"
      },
      "execution_count": 6,
      "outputs": []
    },
    {
      "cell_type": "code",
      "source": [
        "##가져온 json에 있는 문자열을 읽어옴 \n",
        "json_object = json.loads(json_str)\n",
        "print(json_object)  # 표출해보면 dictionary 형태로 정렬되어있는 것을 볼 수 있음"
      ],
      "metadata": {
        "colab": {
          "base_uri": "https://localhost:8080/"
        },
        "id": "PQ3bguf93oHF",
        "outputId": "ba74d0ab-add8-480b-8943-cc52f6e879b8"
      },
      "execution_count": 7,
      "outputs": [
        {
          "output_type": "stream",
          "name": "stdout",
          "text": [
            "{'code': '000', 'hsmpList': [{'numOfRows': '10000000000', 'pageNo': 1, 'totalCount': 126, 'hsmpSn': 31216733, 'insttNm': 'LH부산울산', 'brtcCode': '26', 'brtcNm': '부산광역시', 'signguCode': '710', 'signguNm': '기장군', 'hsmpNm': '청년신혼부부매입임대(부산기장군)', 'rnAdres': '부산광역시 기장군 정관읍 정관로 545', 'pnu': '2671025628113360000', 'competDe': {}, 'hshldCo': 1, 'suplyTyNm': '매입임대', 'styleNm': '59', 'suplyPrvuseAr': 59.8881, 'suplyCmnuseAr': 20.6828, 'houseTyNm': '아파트', 'heatMthdDetailNm': {}, 'buldStleNm': {}, 'elvtrInstlAtNm': {}, 'parkngCo': 0, 'bassRentGtn': 134500000, 'bassMtRntchrg': 151770, 'bassCnvrsGtnLmt': 148500000}, {'numOfRows': '10000000000', 'pageNo': 1, 'totalCount': 126, 'hsmpSn': 31216715, 'insttNm': 'LH부산울산', 'brtcCode': '26', 'brtcNm': '부산광역시', 'signguCode': '710', 'signguNm': '기장군', 'hsmpNm': '청년신혼부부매입임대(부산기장군)', 'rnAdres': '부산광역시 기장군 정관읍 정관로 545', 'pnu': '2671025628113360000', 'competDe': {}, 'hshldCo': 1, 'suplyTyNm': '매입임대', 'styleNm': '59', 'suplyPrvuseAr': 59.8881, 'suplyCmnuseAr': 20.6828, 'houseTyNm': '아파트', 'heatMthdDetailNm': {}, 'buldStleNm': {}, 'elvtrInstlAtNm': {}, 'parkngCo': 0, 'bassRentGtn': 134500000, 'bassMtRntchrg': 151770, 'bassCnvrsGtnLmt': 0}, {'numOfRows': '10000000000', 'pageNo': 1, 'totalCount': 126, 'hsmpSn': 31216708, 'insttNm': 'LH부산울산', 'brtcCode': '26', 'brtcNm': '부산광역시', 'signguCode': '710', 'signguNm': '기장군', 'hsmpNm': '청년신혼부부매입임대(부산기장군)', 'rnAdres': '부산광역시 기장군 정관읍 정관5로 12', 'pnu': '2671025622107230000', 'competDe': {}, 'hshldCo': 1, 'suplyTyNm': '매입임대', 'styleNm': '59', 'suplyPrvuseAr': 59.997, 'suplyCmnuseAr': 21.4885, 'houseTyNm': '아파트', 'heatMthdDetailNm': {}, 'buldStleNm': {}, 'elvtrInstlAtNm': {}, 'parkngCo': 0, 'bassRentGtn': 122400000, 'bassMtRntchrg': 143350, 'bassCnvrsGtnLmt': 0}, {'numOfRows': '10000000000', 'pageNo': 1, 'totalCount': 126, 'hsmpSn': 31216707, 'insttNm': 'LH부산울산', 'brtcCode': '26', 'brtcNm': '부산광역시', 'signguCode': '710', 'signguNm': '기장군', 'hsmpNm': '청년신혼부부매입임대(부산기장군)', 'rnAdres': '부산광역시 기장군 정관읍 정관5로 12', 'pnu': '2671025622107230000', 'competDe': {}, 'hshldCo': 1, 'suplyTyNm': '매입임대', 'styleNm': '59', 'suplyPrvuseAr': 59.997, 'suplyCmnuseAr': 21.4885, 'houseTyNm': '아파트', 'heatMthdDetailNm': {}, 'buldStleNm': {}, 'elvtrInstlAtNm': {}, 'parkngCo': 0, 'bassRentGtn': 122400000, 'bassMtRntchrg': 143350, 'bassCnvrsGtnLmt': 135400000}, {'numOfRows': '10000000000', 'pageNo': 1, 'totalCount': 126, 'hsmpSn': 31216700, 'insttNm': 'LH부산울산', 'brtcCode': '26', 'brtcNm': '부산광역시', 'signguCode': '710', 'signguNm': '기장군', 'hsmpNm': '청년신혼부부매입임대(부산기장군)', 'rnAdres': '부산광역시 기장군 정관읍 정관5로 12', 'pnu': '2671025622107230000', 'competDe': {}, 'hshldCo': 2, 'suplyTyNm': '매입임대', 'styleNm': '59', 'suplyPrvuseAr': 59.997, 'suplyCmnuseAr': 20.3843, 'houseTyNm': '아파트', 'heatMthdDetailNm': {}, 'buldStleNm': {}, 'elvtrInstlAtNm': {}, 'parkngCo': 0, 'bassRentGtn': 122400000, 'bassMtRntchrg': 143350, 'bassCnvrsGtnLmt': 135400000}, {'numOfRows': '10000000000', 'pageNo': 1, 'totalCount': 126, 'hsmpSn': 31216699, 'insttNm': 'LH부산울산', 'brtcCode': '26', 'brtcNm': '부산광역시', 'signguCode': '710', 'signguNm': '기장군', 'hsmpNm': '청년신혼부부매입임대(부산기장군)', 'rnAdres': '부산광역시 기장군 정관읍 정관5로 12', 'pnu': '2671025622107230000', 'competDe': {}, 'hshldCo': 1, 'suplyTyNm': '매입임대', 'styleNm': '59', 'suplyPrvuseAr': 59.997, 'suplyCmnuseAr': 21.4885, 'houseTyNm': '아파트', 'heatMthdDetailNm': {}, 'buldStleNm': {}, 'elvtrInstlAtNm': {}, 'parkngCo': 0, 'bassRentGtn': 122400000, 'bassMtRntchrg': 143350, 'bassCnvrsGtnLmt': 135400000}, {'numOfRows': '10000000000', 'pageNo': 1, 'totalCount': 126, 'hsmpSn': 31215422, 'insttNm': 'LH부산울산', 'brtcCode': '26', 'brtcNm': '부산광역시', 'signguCode': '710', 'signguNm': '기장군', 'hsmpNm': '청년신혼부부매입임대(부산기장군)', 'rnAdres': '부산광역시 기장군 정관읍 정관5로 12', 'pnu': '2671025622107230000', 'competDe': {}, 'hshldCo': 1, 'suplyTyNm': '매입임대', 'styleNm': '59', 'suplyPrvuseAr': 59.997, 'suplyCmnuseAr': 21.4885, 'houseTyNm': '아파트', 'heatMthdDetailNm': {}, 'buldStleNm': {}, 'elvtrInstlAtNm': {}, 'parkngCo': 0, 'bassRentGtn': 122625000, 'bassMtRntchrg': 147360, 'bassCnvrsGtnLmt': 0}, {'numOfRows': '10000000000', 'pageNo': 1, 'totalCount': 126, 'hsmpSn': 31215421, 'insttNm': 'LH부산울산', 'brtcCode': '26', 'brtcNm': '부산광역시', 'signguCode': '710', 'signguNm': '기장군', 'hsmpNm': '청년신혼부부매입임대(부산기장군)', 'rnAdres': '부산광역시 기장군 정관읍 정관5로 12', 'pnu': '2671025622107230000', 'competDe': {}, 'hshldCo': 1, 'suplyTyNm': '매입임대', 'styleNm': '59', 'suplyPrvuseAr': 59.997, 'suplyCmnuseAr': 20.3843, 'houseTyNm': '아파트', 'heatMthdDetailNm': {}, 'buldStleNm': {}, 'elvtrInstlAtNm': {}, 'parkngCo': 0, 'bassRentGtn': 123250000, 'bassMtRntchrg': 134140, 'bassCnvrsGtnLmt': 135250000}, {'numOfRows': '10000000000', 'pageNo': 1, 'totalCount': 126, 'hsmpSn': 31215226, 'insttNm': 'LH부산울산', 'brtcCode': '26', 'brtcNm': '부산광역시', 'signguCode': '710', 'signguNm': '기장군', 'hsmpNm': '청년신혼부부매입임대(부산기장군)', 'rnAdres': '부산광역시 기장군 정관읍 정관로 545', 'pnu': '2671025628113360000', 'competDe': {}, 'hshldCo': 1, 'suplyTyNm': '매입임대', 'styleNm': '59', 'suplyPrvuseAr': 59.8881, 'suplyCmnuseAr': 20.6828, 'houseTyNm': '아파트', 'heatMthdDetailNm': {}, 'buldStleNm': {}, 'elvtrInstlAtNm': {}, 'parkngCo': 0, 'bassRentGtn': 134750000, 'bassMtRntchrg': 183100, 'bassCnvrsGtnLmt': 151750000}, {'numOfRows': '10000000000', 'pageNo': 1, 'totalCount': 126, 'hsmpSn': 31215139, 'insttNm': 'LH부산울산', 'brtcCode': '26', 'brtcNm': '부산광역시', 'signguCode': '710', 'signguNm': '기장군', 'hsmpNm': '청년신혼부부매입임대(부산기장군)', 'rnAdres': '부산광역시 기장군 정관읍 정관5로 12', 'pnu': '2671025622107230000', 'competDe': {}, 'hshldCo': 1, 'suplyTyNm': '매입임대', 'styleNm': '59', 'suplyPrvuseAr': 59.997, 'suplyCmnuseAr': 21.4885, 'houseTyNm': '아파트', 'heatMthdDetailNm': {}, 'buldStleNm': {}, 'elvtrInstlAtNm': {}, 'parkngCo': 0, 'bassRentGtn': 122625000, 'bassMtRntchrg': 147360, 'bassCnvrsGtnLmt': 0}, {'numOfRows': '10000000000', 'pageNo': 1, 'totalCount': 126, 'hsmpSn': 31214951, 'insttNm': 'LH부산울산', 'brtcCode': '26', 'brtcNm': '부산광역시', 'signguCode': '710', 'signguNm': '기장군', 'hsmpNm': '청년신혼부부매입임대(부산기장군)', 'rnAdres': '부산광역시 기장군 정관읍 정관로 545', 'pnu': '2671025628113360000', 'competDe': {}, 'hshldCo': 1, 'suplyTyNm': '매입임대', 'styleNm': '59', 'suplyPrvuseAr': 59.8881, 'suplyCmnuseAr': 20.6828, 'houseTyNm': '아파트', 'heatMthdDetailNm': {}, 'buldStleNm': {}, 'elvtrInstlAtNm': {}, 'parkngCo': 0, 'bassRentGtn': 134500000, 'bassMtRntchrg': 178200, 'bassCnvrsGtnLmt': 0}, {'numOfRows': '10000000000', 'pageNo': 1, 'totalCount': 126, 'hsmpSn': 31214950, 'insttNm': 'LH부산울산', 'brtcCode': '26', 'brtcNm': '부산광역시', 'signguCode': '710', 'signguNm': '기장군', 'hsmpNm': '청년신혼부부매입임대(부산기장군)', 'rnAdres': '부산광역시 기장군 정관읍 정관로 545', 'pnu': '2671025628113360000', 'competDe': {}, 'hshldCo': 1, 'suplyTyNm': '매입임대', 'styleNm': '59', 'suplyPrvuseAr': 59.8881, 'suplyCmnuseAr': 20.6828, 'houseTyNm': '아파트', 'heatMthdDetailNm': {}, 'buldStleNm': {}, 'elvtrInstlAtNm': {}, 'parkngCo': 0, 'bassRentGtn': 130875000, 'bassMtRntchrg': 201210, 'bassCnvrsGtnLmt': 149875000}, {'numOfRows': '10000000000', 'pageNo': 1, 'totalCount': 126, 'hsmpSn': 31214949, 'insttNm': 'LH부산울산', 'brtcCode': '26', 'brtcNm': '부산광역시', 'signguCode': '710', 'signguNm': '기장군', 'hsmpNm': '청년신혼부부매입임대(부산기장군)', 'rnAdres': '부산광역시 기장군 정관읍 정관로 545', 'pnu': '2671025628113360000', 'competDe': {}, 'hshldCo': 1, 'suplyTyNm': '매입임대', 'styleNm': '59', 'suplyPrvuseAr': 59.8881, 'suplyCmnuseAr': 20.6828, 'houseTyNm': '아파트', 'heatMthdDetailNm': {}, 'buldStleNm': {}, 'elvtrInstlAtNm': {}, 'parkngCo': 0, 'bassRentGtn': 130875000, 'bassMtRntchrg': 201210, 'bassCnvrsGtnLmt': 149875000}, {'numOfRows': '10000000000', 'pageNo': 1, 'totalCount': 126, 'hsmpSn': 31214948, 'insttNm': 'LH부산울산', 'brtcCode': '26', 'brtcNm': '부산광역시', 'signguCode': '710', 'signguNm': '기장군', 'hsmpNm': '청년신혼부부매입임대(부산기장군)', 'rnAdres': '부산광역시 기장군 정관읍 정관5로 12', 'pnu': '2671025622107230000', 'competDe': {}, 'hshldCo': 1, 'suplyTyNm': '매입임대', 'styleNm': '59', 'suplyPrvuseAr': 59.997, 'suplyCmnuseAr': 20.3843, 'houseTyNm': '아파트', 'heatMthdDetailNm': {}, 'buldStleNm': {}, 'elvtrInstlAtNm': {}, 'parkngCo': 0, 'bassRentGtn': 123250000, 'bassMtRntchrg': 134140, 'bassCnvrsGtnLmt': 0}, {'numOfRows': '10000000000', 'pageNo': 1, 'totalCount': 126, 'hsmpSn': 31214864, 'insttNm': 'LH부산울산', 'brtcCode': '26', 'brtcNm': '부산광역시', 'signguCode': '710', 'signguNm': '기장군', 'hsmpNm': '청년신혼부부매입임대(부산기장군)', 'rnAdres': '부산광역시 기장군 정관읍 정관1로 18', 'pnu': '2671025627107230000', 'competDe': {}, 'hshldCo': 1, 'suplyTyNm': '매입임대', 'styleNm': '59', 'suplyPrvuseAr': 59.8832, 'suplyCmnuseAr': 23.1197, 'houseTyNm': '아파트', 'heatMthdDetailNm': {}, 'buldStleNm': {}, 'elvtrInstlAtNm': {}, 'parkngCo': 0, 'bassRentGtn': 107000000, 'bassMtRntchrg': 77940, 'bassCnvrsGtnLmt': 111000000}, {'numOfRows': '10000000000', 'pageNo': 1, 'totalCount': 126, 'hsmpSn': 31214863, 'insttNm': 'LH부산울산', 'brtcCode': '26', 'brtcNm': '부산광역시', 'signguCode': '710', 'signguNm': '기장군', 'hsmpNm': '청년신혼부부매입임대(부산기장군)', 'rnAdres': '부산광역시 기장군 정관읍 정관5로 12', 'pnu': '2671025622107230000', 'competDe': {}, 'hshldCo': 2, 'suplyTyNm': '매입임대', 'styleNm': '59', 'suplyPrvuseAr': 59.997, 'suplyCmnuseAr': 20.3843, 'houseTyNm': '아파트', 'heatMthdDetailNm': {}, 'buldStleNm': {}, 'elvtrInstlAtNm': {}, 'parkngCo': 0, 'bassRentGtn': 122625000, 'bassMtRntchrg': 147360, 'bassCnvrsGtnLmt': 0}, {'numOfRows': '10000000000', 'pageNo': 1, 'totalCount': 126, 'hsmpSn': 31214776, 'insttNm': 'LH부산울산', 'brtcCode': '26', 'brtcNm': '부산광역시', 'signguCode': '710', 'signguNm': '기장군', 'hsmpNm': '청년신혼부부매입임대(부산기장군)', 'rnAdres': '부산광역시 기장군 정관읍 정관2로 9', 'pnu': '2671025627107350000', 'competDe': {}, 'hshldCo': 3, 'suplyTyNm': '매입임대', 'styleNm': '59', 'suplyPrvuseAr': 59.8935, 'suplyCmnuseAr': 21.7873, 'houseTyNm': '아파트', 'heatMthdDetailNm': {}, 'buldStleNm': {}, 'elvtrInstlAtNm': {}, 'parkngCo': 0, 'bassRentGtn': 102833000, 'bassMtRntchrg': 81790, 'bassCnvrsGtnLmt': 107833000}, {'numOfRows': '10000000000', 'pageNo': 1, 'totalCount': 126, 'hsmpSn': 31214776, 'insttNm': 'LH부산울산', 'brtcCode': '26', 'brtcNm': '부산광역시', 'signguCode': '710', 'signguNm': '기장군', 'hsmpNm': '청년신혼부부매입임대(부산기장군)', 'rnAdres': '부산광역시 기장군 정관읍 정관2로 9', 'pnu': '2671025627107350000', 'competDe': {}, 'hshldCo': 3, 'suplyTyNm': '매입임대', 'styleNm': '59', 'suplyPrvuseAr': 59.9984, 'suplyCmnuseAr': 22.5509, 'houseTyNm': '아파트', 'heatMthdDetailNm': {}, 'buldStleNm': {}, 'elvtrInstlAtNm': {}, 'parkngCo': 0, 'bassRentGtn': 102833000, 'bassMtRntchrg': 81790, 'bassCnvrsGtnLmt': 107833000}, {'numOfRows': '10000000000', 'pageNo': 1, 'totalCount': 126, 'hsmpSn': 31214775, 'insttNm': 'LH부산울산', 'brtcCode': '26', 'brtcNm': '부산광역시', 'signguCode': '710', 'signguNm': '기장군', 'hsmpNm': '청년신혼부부매입임대(부산기장군)', 'rnAdres': '부산광역시 기장군 정관읍 정관로 545', 'pnu': '2671025628113360000', 'competDe': {}, 'hshldCo': 1, 'suplyTyNm': '매입임대', 'styleNm': '59', 'suplyPrvuseAr': 59.8881, 'suplyCmnuseAr': 20.6828, 'houseTyNm': '아파트', 'heatMthdDetailNm': {}, 'buldStleNm': {}, 'elvtrInstlAtNm': {}, 'parkngCo': 0, 'bassRentGtn': 133583000, 'bassMtRntchrg': 196480, 'bassCnvrsGtnLmt': 151583000}, {'numOfRows': '10000000000', 'pageNo': 1, 'totalCount': 126, 'hsmpSn': 31206499, 'insttNm': 'LH부산울산', 'brtcCode': '26', 'brtcNm': '부산광역시', 'signguCode': '710', 'signguNm': '기장군', 'hsmpNm': '부산정관 행복주택(A-4BL)', 'rnAdres': '부산광역시 기장군 정관읍 정관1로 51', 'pnu': '2671025627107170000', 'competDe': '20190131', 'hshldCo': 856, 'suplyTyNm': '행복주택', 'styleNm': '16', 'suplyPrvuseAr': 16.78, 'suplyCmnuseAr': 8.3675, 'houseTyNm': '아파트', 'heatMthdDetailNm': '지역난방', 'buldStleNm': '복도식', 'elvtrInstlAtNm': '전체동 설치', 'parkngCo': 600, 'bassRentGtn': 13178000, 'bassMtRntchrg': 76500, 'bassCnvrsGtnLmt': 3000000}, {'numOfRows': '10000000000', 'pageNo': 1, 'totalCount': 126, 'hsmpSn': 31206499, 'insttNm': 'LH부산울산', 'brtcCode': '26', 'brtcNm': '부산광역시', 'signguCode': '710', 'signguNm': '기장군', 'hsmpNm': '부산정관 행복주택(A-4BL)', 'rnAdres': '부산광역시 기장군 정관읍 정관1로 51', 'pnu': '2671025627107170000', 'competDe': '20190131', 'hshldCo': 856, 'suplyTyNm': '행복주택', 'styleNm': '26', 'suplyPrvuseAr': 26.75, 'suplyCmnuseAr': 13.3391, 'houseTyNm': '아파트', 'heatMthdDetailNm': '지역난방', 'buldStleNm': '복도식', 'elvtrInstlAtNm': '전체동 설치', 'parkngCo': 600, 'bassRentGtn': 20808000, 'bassMtRntchrg': 121380, 'bassCnvrsGtnLmt': 12000000}, {'numOfRows': '10000000000', 'pageNo': 1, 'totalCount': 126, 'hsmpSn': 31206499, 'insttNm': 'LH부산울산', 'brtcCode': '26', 'brtcNm': '부산광역시', 'signguCode': '710', 'signguNm': '기장군', 'hsmpNm': '부산정관 행복주택(A-4BL)', 'rnAdres': '부산광역시 기장군 정관읍 정관1로 51', 'pnu': '2671025627107170000', 'competDe': '20190131', 'hshldCo': 856, 'suplyTyNm': '행복주택', 'styleNm': '26', 'suplyPrvuseAr': 26.78, 'suplyCmnuseAr': 13.3541, 'houseTyNm': '아파트', 'heatMthdDetailNm': '지역난방', 'buldStleNm': '복도식', 'elvtrInstlAtNm': '전체동 설치', 'parkngCo': 600, 'bassRentGtn': 20808000, 'bassMtRntchrg': 121380, 'bassCnvrsGtnLmt': 12000000}, {'numOfRows': '10000000000', 'pageNo': 1, 'totalCount': 126, 'hsmpSn': 31206499, 'insttNm': 'LH부산울산', 'brtcCode': '26', 'brtcNm': '부산광역시', 'signguCode': '710', 'signguNm': '기장군', 'hsmpNm': '부산정관 행복주택(A-4BL)', 'rnAdres': '부산광역시 기장군 정관읍 정관1로 51', 'pnu': '2671025627107170000', 'competDe': '20190131', 'hshldCo': 856, 'suplyTyNm': '행복주택', 'styleNm': '36', 'suplyPrvuseAr': 36.48, 'suplyCmnuseAr': 18.1911, 'houseTyNm': '아파트', 'heatMthdDetailNm': '지역난방', 'buldStleNm': '복도식', 'elvtrInstlAtNm': '전체동 설치', 'parkngCo': 600, 'bassRentGtn': 27744000, 'bassMtRntchrg': 161160, 'bassCnvrsGtnLmt': 19000000}, {'numOfRows': '10000000000', 'pageNo': 1, 'totalCount': 126, 'hsmpSn': 31177304, 'insttNm': 'LH부산울산', 'brtcCode': '26', 'brtcNm': '부산광역시', 'signguCode': '710', 'signguNm': '기장군', 'hsmpNm': '청년신혼부부매입임대(부산기장군)', 'rnAdres': '부산광역시 기장군 정관읍 정관로 545', 'pnu': '2671025628113360000', 'competDe': {}, 'hshldCo': 1, 'suplyTyNm': '매입임대', 'styleNm': '59', 'suplyPrvuseAr': 59.8881, 'suplyCmnuseAr': 20.6828, 'houseTyNm': '아파트', 'heatMthdDetailNm': {}, 'buldStleNm': {}, 'elvtrInstlAtNm': {}, 'parkngCo': 0, 'bassRentGtn': 133583000, 'bassMtRntchrg': 196480, 'bassCnvrsGtnLmt': 151583000}, {'numOfRows': '10000000000', 'pageNo': 1, 'totalCount': 126, 'hsmpSn': 31177299, 'insttNm': 'LH부산울산', 'brtcCode': '26', 'brtcNm': '부산광역시', 'signguCode': '710', 'signguNm': '기장군', 'hsmpNm': '청년신혼부부매입임대(부산기장군)', 'rnAdres': '부산광역시 기장군 정관읍 정관로 545', 'pnu': '2671025628113360000', 'competDe': {}, 'hshldCo': 1, 'suplyTyNm': '매입임대', 'styleNm': '59', 'suplyPrvuseAr': 59.8881, 'suplyCmnuseAr': 20.6828, 'houseTyNm': '아파트', 'heatMthdDetailNm': {}, 'buldStleNm': {}, 'elvtrInstlAtNm': {}, 'parkngCo': 0, 'bassRentGtn': 133583000, 'bassMtRntchrg': 196480, 'bassCnvrsGtnLmt': 151583000}, {'numOfRows': '10000000000', 'pageNo': 1, 'totalCount': 126, 'hsmpSn': 31142568, 'insttNm': 'LH부산울산', 'brtcCode': '26', 'brtcNm': '부산광역시', 'signguCode': '710', 'signguNm': '기장군', 'hsmpNm': '부산광역시 기장군', 'rnAdres': '부산광역시 기장군 기장읍 차성로 426-8', 'pnu': '2671025022103400003', 'competDe': {}, 'hshldCo': 18, 'suplyTyNm': '매입임대', 'styleNm': '26', 'suplyPrvuseAr': 26.66, 'suplyCmnuseAr': 3.2088, 'houseTyNm': '다가구주택', 'heatMthdDetailNm': {}, 'buldStleNm': {}, 'elvtrInstlAtNm': {}, 'parkngCo': 0, 'bassRentGtn': 2593000, 'bassMtRntchrg': 82160, 'bassCnvrsGtnLmt': 0}, {'numOfRows': '10000000000', 'pageNo': 1, 'totalCount': 126, 'hsmpSn': 31142568, 'insttNm': 'LH부산울산', 'brtcCode': '26', 'brtcNm': '부산광역시', 'signguCode': '710', 'signguNm': '기장군', 'hsmpNm': '부산광역시 기장군', 'rnAdres': '부산광역시 기장군 기장읍 차성로 426-8', 'pnu': '2671025022103400003', 'competDe': {}, 'hshldCo': 18, 'suplyTyNm': '매입임대', 'styleNm': '27', 'suplyPrvuseAr': 27.53, 'suplyCmnuseAr': 3.3136, 'houseTyNm': '다가구주택', 'heatMthdDetailNm': {}, 'buldStleNm': {}, 'elvtrInstlAtNm': {}, 'parkngCo': 0, 'bassRentGtn': 2684000, 'bassMtRntchrg': 82870, 'bassCnvrsGtnLmt': 0}, {'numOfRows': '10000000000', 'pageNo': 1, 'totalCount': 126, 'hsmpSn': 31142568, 'insttNm': 'LH부산울산', 'brtcCode': '26', 'brtcNm': '부산광역시', 'signguCode': '710', 'signguNm': '기장군', 'hsmpNm': '부산광역시 기장군', 'rnAdres': '부산광역시 기장군 기장읍 차성로 426-8', 'pnu': '2671025022103400003', 'competDe': {}, 'hshldCo': 18, 'suplyTyNm': '매입임대', 'styleNm': '29', 'suplyPrvuseAr': 29.89, 'suplyCmnuseAr': 3.5976, 'houseTyNm': '다가구주택', 'heatMthdDetailNm': {}, 'buldStleNm': {}, 'elvtrInstlAtNm': {}, 'parkngCo': 0, 'bassRentGtn': 2952000, 'bassMtRntchrg': 89730, 'bassCnvrsGtnLmt': 0}, {'numOfRows': '10000000000', 'pageNo': 1, 'totalCount': 126, 'hsmpSn': 31118207, 'insttNm': 'LH부산울산', 'brtcCode': '26', 'brtcNm': '부산광역시', 'signguCode': '710', 'signguNm': '기장군', 'hsmpNm': '부산광역시 기장군', 'rnAdres': '부산광역시 기장군 기장읍 차성동로 17', 'pnu': '2671025026101440008', 'competDe': {}, 'hshldCo': 18, 'suplyTyNm': '매입임대', 'styleNm': '24', 'suplyPrvuseAr': 24.65, 'suplyCmnuseAr': 1.1935, 'houseTyNm': '다가구주택', 'heatMthdDetailNm': {}, 'buldStleNm': {}, 'elvtrInstlAtNm': {}, 'parkngCo': 0, 'bassRentGtn': 2288000, 'bassMtRntchrg': 73530, 'bassCnvrsGtnLmt': 0}, {'numOfRows': '10000000000', 'pageNo': 1, 'totalCount': 126, 'hsmpSn': 31118207, 'insttNm': 'LH부산울산', 'brtcCode': '26', 'brtcNm': '부산광역시', 'signguCode': '710', 'signguNm': '기장군', 'hsmpNm': '부산광역시 기장군', 'rnAdres': '부산광역시 기장군 기장읍 차성동로 17', 'pnu': '2671025026101440008', 'competDe': {}, 'hshldCo': 18, 'suplyTyNm': '매입임대', 'styleNm': '25', 'suplyPrvuseAr': 25.02, 'suplyCmnuseAr': 1.2115, 'houseTyNm': '다가구주택', 'heatMthdDetailNm': {}, 'buldStleNm': {}, 'elvtrInstlAtNm': {}, 'parkngCo': 0, 'bassRentGtn': 2379000, 'bassMtRntchrg': 74250, 'bassCnvrsGtnLmt': 0}, {'numOfRows': '10000000000', 'pageNo': 1, 'totalCount': 126, 'hsmpSn': 31118207, 'insttNm': 'LH부산울산', 'brtcCode': '26', 'brtcNm': '부산광역시', 'signguCode': '710', 'signguNm': '기장군', 'hsmpNm': '부산광역시 기장군', 'rnAdres': '부산광역시 기장군 기장읍 차성동로 17', 'pnu': '2671025026101440008', 'competDe': {}, 'hshldCo': 18, 'suplyTyNm': '매입임대', 'styleNm': '27', 'suplyPrvuseAr': 27.42, 'suplyCmnuseAr': 1.3277, 'houseTyNm': '다가구주택', 'heatMthdDetailNm': {}, 'buldStleNm': {}, 'elvtrInstlAtNm': {}, 'parkngCo': 0, 'bassRentGtn': 2562000, 'bassMtRntchrg': 81680, 'bassCnvrsGtnLmt': 0}, {'numOfRows': '10000000000', 'pageNo': 1, 'totalCount': 126, 'hsmpSn': 31118207, 'insttNm': 'LH부산울산', 'brtcCode': '26', 'brtcNm': '부산광역시', 'signguCode': '710', 'signguNm': '기장군', 'hsmpNm': '부산광역시 기장군', 'rnAdres': '부산광역시 기장군 기장읍 차성동로 17', 'pnu': '2671025026101440008', 'competDe': {}, 'hshldCo': 18, 'suplyTyNm': '매입임대', 'styleNm': '35', 'suplyPrvuseAr': 35.78, 'suplyCmnuseAr': 1.7324, 'houseTyNm': '다가구주택', 'heatMthdDetailNm': {}, 'buldStleNm': {}, 'elvtrInstlAtNm': {}, 'parkngCo': 0, 'bassRentGtn': 3456000, 'bassMtRntchrg': 108360, 'bassCnvrsGtnLmt': 0}, {'numOfRows': '10000000000', 'pageNo': 1, 'totalCount': 126, 'hsmpSn': 31118207, 'insttNm': 'LH부산울산', 'brtcCode': '26', 'brtcNm': '부산광역시', 'signguCode': '710', 'signguNm': '기장군', 'hsmpNm': '부산광역시 기장군', 'rnAdres': '부산광역시 기장군 기장읍 차성동로 17', 'pnu': '2671025026101440008', 'competDe': {}, 'hshldCo': 18, 'suplyTyNm': '매입임대', 'styleNm': '36', 'suplyPrvuseAr': 36.86, 'suplyCmnuseAr': 1.7847, 'houseTyNm': '다가구주택', 'heatMthdDetailNm': {}, 'buldStleNm': {}, 'elvtrInstlAtNm': {}, 'parkngCo': 0, 'bassRentGtn': 3478000, 'bassMtRntchrg': 109590, 'bassCnvrsGtnLmt': 0}, {'numOfRows': '10000000000', 'pageNo': 1, 'totalCount': 126, 'hsmpSn': 31118207, 'insttNm': 'LH부산울산', 'brtcCode': '26', 'brtcNm': '부산광역시', 'signguCode': '710', 'signguNm': '기장군', 'hsmpNm': '부산광역시 기장군', 'rnAdres': '부산광역시 기장군 기장읍 차성동로 17', 'pnu': '2671025026101440008', 'competDe': {}, 'hshldCo': 18, 'suplyTyNm': '매입임대', 'styleNm': '58', 'suplyPrvuseAr': 58.52, 'suplyCmnuseAr': 2.8335, 'houseTyNm': '다가구주택', 'heatMthdDetailNm': {}, 'buldStleNm': {}, 'elvtrInstlAtNm': {}, 'parkngCo': 0, 'bassRentGtn': 5583000, 'bassMtRntchrg': 173590, 'bassCnvrsGtnLmt': 0}, {'numOfRows': '10000000000', 'pageNo': 1, 'totalCount': 126, 'hsmpSn': 31046395, 'insttNm': 'LH부산울산', 'brtcCode': '26', 'brtcNm': '부산광역시', 'signguCode': '710', 'signguNm': '기장군', 'hsmpNm': '부산정관 7단지(A-1BL)', 'rnAdres': '부산광역시 기장군 정관읍 모전로 41', 'pnu': '2671025627106810000', 'competDe': '20170701', 'hshldCo': 1934, 'suplyTyNm': '국민임대', 'styleNm': '24', 'suplyPrvuseAr': 24.72, 'suplyCmnuseAr': 12.6758, 'houseTyNm': '아파트', 'heatMthdDetailNm': '지역난방', 'buldStleNm': '복도식', 'elvtrInstlAtNm': {}, 'parkngCo': 1666, 'bassRentGtn': 7287000, 'bassMtRntchrg': 140530, 'bassCnvrsGtnLmt': 16000000}, {'numOfRows': '10000000000', 'pageNo': 1, 'totalCount': 126, 'hsmpSn': 31046395, 'insttNm': 'LH부산울산', 'brtcCode': '26', 'brtcNm': '부산광역시', 'signguCode': '710', 'signguNm': '기장군', 'hsmpNm': '부산정관 7단지(A-1BL)', 'rnAdres': '부산광역시 기장군 정관읍 모전로 41', 'pnu': '2671025627106810000', 'competDe': '20170701', 'hshldCo': 1934, 'suplyTyNm': '국민임대', 'styleNm': '24', 'suplyPrvuseAr': 24.79, 'suplyCmnuseAr': 12.7117, 'houseTyNm': '아파트', 'heatMthdDetailNm': '지역난방', 'buldStleNm': '복도식', 'elvtrInstlAtNm': {}, 'parkngCo': 1666, 'bassRentGtn': 7287000, 'bassMtRntchrg': 140530, 'bassCnvrsGtnLmt': 16000000}, {'numOfRows': '10000000000', 'pageNo': 1, 'totalCount': 126, 'hsmpSn': 31046395, 'insttNm': 'LH부산울산', 'brtcCode': '26', 'brtcNm': '부산광역시', 'signguCode': '710', 'signguNm': '기장군', 'hsmpNm': '부산정관 7단지(A-1BL)', 'rnAdres': '부산광역시 기장군 정관읍 모전로 41', 'pnu': '2671025627106810000', 'competDe': '20170701', 'hshldCo': 1934, 'suplyTyNm': '국민임대', 'styleNm': '26', 'suplyPrvuseAr': 26.83, 'suplyCmnuseAr': 13.7577, 'houseTyNm': '아파트', 'heatMthdDetailNm': '지역난방', 'buldStleNm': '복도식', 'elvtrInstlAtNm': {}, 'parkngCo': 1666, 'bassRentGtn': 7911000, 'bassMtRntchrg': 147820, 'bassCnvrsGtnLmt': 17000000}, {'numOfRows': '10000000000', 'pageNo': 1, 'totalCount': 126, 'hsmpSn': 31046395, 'insttNm': 'LH부산울산', 'brtcCode': '26', 'brtcNm': '부산광역시', 'signguCode': '710', 'signguNm': '기장군', 'hsmpNm': '부산정관 7단지(A-1BL)', 'rnAdres': '부산광역시 기장군 정관읍 모전로 41', 'pnu': '2671025627106810000', 'competDe': '20170701', 'hshldCo': 1934, 'suplyTyNm': '국민임대', 'styleNm': '37', 'suplyPrvuseAr': 37.7, 'suplyCmnuseAr': 19.3316, 'houseTyNm': '아파트', 'heatMthdDetailNm': '지역난방', 'buldStleNm': '복도식', 'elvtrInstlAtNm': {}, 'parkngCo': 1666, 'bassRentGtn': 15406000, 'bassMtRntchrg': 206110, 'bassCnvrsGtnLmt': 24000000}, {'numOfRows': '10000000000', 'pageNo': 1, 'totalCount': 126, 'hsmpSn': 31046395, 'insttNm': 'LH부산울산', 'brtcCode': '26', 'brtcNm': '부산광역시', 'signguCode': '710', 'signguNm': '기장군', 'hsmpNm': '부산정관 7단지(A-1BL)', 'rnAdres': '부산광역시 기장군 정관읍 모전로 41', 'pnu': '2671025627106810000', 'competDe': '20170701', 'hshldCo': 1934, 'suplyTyNm': '국민임대', 'styleNm': '46', 'suplyPrvuseAr': 46.94, 'suplyCmnuseAr': 24.0697, 'houseTyNm': '아파트', 'heatMthdDetailNm': '지역난방', 'buldStleNm': '복도식', 'elvtrInstlAtNm': {}, 'parkngCo': 1666, 'bassRentGtn': 24047000, 'bassMtRntchrg': 269610, 'bassCnvrsGtnLmt': 32000000}, {'numOfRows': '10000000000', 'pageNo': 1, 'totalCount': 126, 'hsmpSn': 31027867, 'insttNm': 'LH부산울산', 'brtcCode': '26', 'brtcNm': '부산광역시', 'signguCode': '710', 'signguNm': '기장군', 'hsmpNm': '대라빌(102동)', 'rnAdres': '부산광역시 기장군 기장읍 차성남로 8-19', 'pnu': '2671025026109540001', 'competDe': '20131203', 'hshldCo': 16, 'suplyTyNm': '매입임대', 'styleNm': '51', 'suplyPrvuseAr': 51.615, 'suplyCmnuseAr': 11.9841, 'houseTyNm': '다가구주택', 'heatMthdDetailNm': '개별가스난방', 'buldStleNm': {}, 'elvtrInstlAtNm': {}, 'parkngCo': 0, 'bassRentGtn': 64519000, 'bassMtRntchrg': 0, 'bassCnvrsGtnLmt': 0}, {'numOfRows': '10000000000', 'pageNo': 1, 'totalCount': 126, 'hsmpSn': 31027867, 'insttNm': 'LH부산울산', 'brtcCode': '26', 'brtcNm': '부산광역시', 'signguCode': '710', 'signguNm': '기장군', 'hsmpNm': '대라빌(102동)', 'rnAdres': '부산광역시 기장군 기장읍 차성남로 8-19', 'pnu': '2671025026109540001', 'competDe': '20131203', 'hshldCo': 16, 'suplyTyNm': '매입임대', 'styleNm': '51', 'suplyPrvuseAr': 51.615, 'suplyCmnuseAr': 11.9845, 'houseTyNm': '다가구주택', 'heatMthdDetailNm': '개별가스난방', 'buldStleNm': {}, 'elvtrInstlAtNm': {}, 'parkngCo': 0, 'bassRentGtn': 64519000, 'bassMtRntchrg': 0, 'bassCnvrsGtnLmt': 0}, {'numOfRows': '10000000000', 'pageNo': 1, 'totalCount': 126, 'hsmpSn': 31027867, 'insttNm': 'LH부산울산', 'brtcCode': '26', 'brtcNm': '부산광역시', 'signguCode': '710', 'signguNm': '기장군', 'hsmpNm': '대라빌(102동)', 'rnAdres': '부산광역시 기장군 기장읍 차성남로 8-19', 'pnu': '2671025026109540001', 'competDe': '20131203', 'hshldCo': 16, 'suplyTyNm': '매입임대', 'styleNm': '58', 'suplyPrvuseAr': 58.5, 'suplyCmnuseAr': 12.5393, 'houseTyNm': '다가구주택', 'heatMthdDetailNm': '개별가스난방', 'buldStleNm': {}, 'elvtrInstlAtNm': {}, 'parkngCo': 0, 'bassRentGtn': 73994000, 'bassMtRntchrg': 0, 'bassCnvrsGtnLmt': 0}, {'numOfRows': '10000000000', 'pageNo': 1, 'totalCount': 126, 'hsmpSn': 31027749, 'insttNm': 'LH부산울산', 'brtcCode': '26', 'brtcNm': '부산광역시', 'signguCode': '710', 'signguNm': '기장군', 'hsmpNm': '대라빌(103동)', 'rnAdres': '부산광역시 기장군 기장읍 차성남로 14-16', 'pnu': '2671025026109580000', 'competDe': '20131203', 'hshldCo': 24, 'suplyTyNm': '매입임대', 'styleNm': '53', 'suplyPrvuseAr': 53.982, 'suplyCmnuseAr': 17.4531, 'houseTyNm': '다가구주택', 'heatMthdDetailNm': '개별가스난방', 'buldStleNm': {}, 'elvtrInstlAtNm': {}, 'parkngCo': 0, 'bassRentGtn': 68128000, 'bassMtRntchrg': 0, 'bassCnvrsGtnLmt': 0}, {'numOfRows': '10000000000', 'pageNo': 1, 'totalCount': 126, 'hsmpSn': 31027749, 'insttNm': 'LH부산울산', 'brtcCode': '26', 'brtcNm': '부산광역시', 'signguCode': '710', 'signguNm': '기장군', 'hsmpNm': '대라빌(103동)', 'rnAdres': '부산광역시 기장군 기장읍 차성남로 14-16', 'pnu': '2671025026109580000', 'competDe': '20131203', 'hshldCo': 24, 'suplyTyNm': '매입임대', 'styleNm': '53', 'suplyPrvuseAr': 53.982, 'suplyCmnuseAr': 17.4538, 'houseTyNm': '다가구주택', 'heatMthdDetailNm': '개별가스난방', 'buldStleNm': {}, 'elvtrInstlAtNm': {}, 'parkngCo': 0, 'bassRentGtn': 68128000, 'bassMtRntchrg': 0, 'bassCnvrsGtnLmt': 0}, {'numOfRows': '10000000000', 'pageNo': 1, 'totalCount': 126, 'hsmpSn': 31027749, 'insttNm': 'LH부산울산', 'brtcCode': '26', 'brtcNm': '부산광역시', 'signguCode': '710', 'signguNm': '기장군', 'hsmpNm': '대라빌(103동)', 'rnAdres': '부산광역시 기장군 기장읍 차성남로 14-16', 'pnu': '2671025026109580000', 'competDe': '20131203', 'hshldCo': 24, 'suplyTyNm': '매입임대', 'styleNm': '58', 'suplyPrvuseAr': 58.959, 'suplyCmnuseAr': 18.7067, 'houseTyNm': '다가구주택', 'heatMthdDetailNm': '개별가스난방', 'buldStleNm': {}, 'elvtrInstlAtNm': {}, 'parkngCo': 0, 'bassRentGtn': 73994000, 'bassMtRntchrg': 0, 'bassCnvrsGtnLmt': 0}, {'numOfRows': '10000000000', 'pageNo': 1, 'totalCount': 126, 'hsmpSn': 30993804, 'insttNm': 'LH부산울산', 'brtcCode': '26', 'brtcNm': '부산광역시', 'signguCode': '710', 'signguNm': '기장군', 'hsmpNm': '부산광역시 기장군', 'rnAdres': '부산광역시 기장군 기장읍 차성로241번길 23-6', 'pnu': '2671025026102580002', 'competDe': {}, 'hshldCo': 8, 'suplyTyNm': '매입임대', 'styleNm': '38', 'suplyPrvuseAr': 38.21, 'suplyCmnuseAr': 12.6506, 'houseTyNm': '다세대주택', 'heatMthdDetailNm': {}, 'buldStleNm': {}, 'elvtrInstlAtNm': {}, 'parkngCo': 0, 'bassRentGtn': 4875000, 'bassMtRntchrg': 110730, 'bassCnvrsGtnLmt': 0}, {'numOfRows': '10000000000', 'pageNo': 1, 'totalCount': 126, 'hsmpSn': 30993804, 'insttNm': 'LH부산울산', 'brtcCode': '26', 'brtcNm': '부산광역시', 'signguCode': '710', 'signguNm': '기장군', 'hsmpNm': '부산광역시 기장군', 'rnAdres': '부산광역시 기장군 기장읍 차성로241번길 23-6', 'pnu': '2671025026102580002', 'competDe': {}, 'hshldCo': 8, 'suplyTyNm': '매입임대', 'styleNm': '40', 'suplyPrvuseAr': 40.5, 'suplyCmnuseAr': 13.1098, 'houseTyNm': '다세대주택', 'heatMthdDetailNm': {}, 'buldStleNm': {}, 'elvtrInstlAtNm': {}, 'parkngCo': 0, 'bassRentGtn': 5166000, 'bassMtRntchrg': 116520, 'bassCnvrsGtnLmt': 0}, {'numOfRows': '10000000000', 'pageNo': 1, 'totalCount': 126, 'hsmpSn': 30993804, 'insttNm': 'LH부산울산', 'brtcCode': '26', 'brtcNm': '부산광역시', 'signguCode': '710', 'signguNm': '기장군', 'hsmpNm': '부산광역시 기장군', 'rnAdres': '부산광역시 기장군 기장읍 차성로241번길 23-6', 'pnu': '2671025026102580002', 'competDe': {}, 'hshldCo': 8, 'suplyTyNm': '매입임대', 'styleNm': '44', 'suplyPrvuseAr': 44.6255, 'suplyCmnuseAr': 14.2617, 'houseTyNm': '다세대주택', 'heatMthdDetailNm': {}, 'buldStleNm': {}, 'elvtrInstlAtNm': {}, 'parkngCo': 0, 'bassRentGtn': 5654000, 'bassMtRntchrg': 132740, 'bassCnvrsGtnLmt': 0}, {'numOfRows': '10000000000', 'pageNo': 1, 'totalCount': 126, 'hsmpSn': 30993804, 'insttNm': 'LH부산울산', 'brtcCode': '26', 'brtcNm': '부산광역시', 'signguCode': '710', 'signguNm': '기장군', 'hsmpNm': '부산광역시 기장군', 'rnAdres': '부산광역시 기장군 기장읍 차성로241번길 23-6', 'pnu': '2671025026102580002', 'competDe': {}, 'hshldCo': 8, 'suplyTyNm': '매입임대', 'styleNm': '46', 'suplyPrvuseAr': 46.49, 'suplyCmnuseAr': 14.6524, 'houseTyNm': '다세대주택', 'heatMthdDetailNm': {}, 'buldStleNm': {}, 'elvtrInstlAtNm': {}, 'parkngCo': 0, 'bassRentGtn': 5947000, 'bassMtRntchrg': 132550, 'bassCnvrsGtnLmt': 0}, {'numOfRows': '10000000000', 'pageNo': 1, 'totalCount': 126, 'hsmpSn': 30993804, 'insttNm': 'LH부산울산', 'brtcCode': '26', 'brtcNm': '부산광역시', 'signguCode': '710', 'signguNm': '기장군', 'hsmpNm': '부산광역시 기장군', 'rnAdres': '부산광역시 기장군 기장읍 차성로241번길 23-6', 'pnu': '2671025026102580002', 'competDe': {}, 'hshldCo': 8, 'suplyTyNm': '매입임대', 'styleNm': '48', 'suplyPrvuseAr': 48.1555, 'suplyCmnuseAr': 15.2437, 'houseTyNm': '다세대주택', 'heatMthdDetailNm': {}, 'buldStleNm': {}, 'elvtrInstlAtNm': {}, 'parkngCo': 0, 'bassRentGtn': 6142000, 'bassMtRntchrg': 142550, 'bassCnvrsGtnLmt': 0}, {'numOfRows': '10000000000', 'pageNo': 1, 'totalCount': 126, 'hsmpSn': 30992983, 'insttNm': 'LH부산울산', 'brtcCode': '26', 'brtcNm': '부산광역시', 'signguCode': '710', 'signguNm': '기장군', 'hsmpNm': '부산광역시 기장군', 'rnAdres': '부산광역시 기장군 기장읍 차성동로 164-14', 'pnu': '2671025022103510003', 'competDe': {}, 'hshldCo': 15, 'suplyTyNm': '매입임대', 'styleNm': '26', 'suplyPrvuseAr': 26.28, 'suplyCmnuseAr': 3.87, 'houseTyNm': '다가구주택', 'heatMthdDetailNm': {}, 'buldStleNm': {}, 'elvtrInstlAtNm': {}, 'parkngCo': 0, 'bassRentGtn': 2924000, 'bassMtRntchrg': 82390, 'bassCnvrsGtnLmt': 0}, {'numOfRows': '10000000000', 'pageNo': 1, 'totalCount': 126, 'hsmpSn': 30992983, 'insttNm': 'LH부산울산', 'brtcCode': '26', 'brtcNm': '부산광역시', 'signguCode': '710', 'signguNm': '기장군', 'hsmpNm': '부산광역시 기장군', 'rnAdres': '부산광역시 기장군 기장읍 차성동로 164-14', 'pnu': '2671025022103510003', 'competDe': {}, 'hshldCo': 15, 'suplyTyNm': '매입임대', 'styleNm': '26', 'suplyPrvuseAr': 26.68, 'suplyCmnuseAr': 3.94, 'houseTyNm': '다가구주택', 'heatMthdDetailNm': {}, 'buldStleNm': {}, 'elvtrInstlAtNm': {}, 'parkngCo': 0, 'bassRentGtn': 2924000, 'bassMtRntchrg': 87110, 'bassCnvrsGtnLmt': 0}, {'numOfRows': '10000000000', 'pageNo': 1, 'totalCount': 126, 'hsmpSn': 30992983, 'insttNm': 'LH부산울산', 'brtcCode': '26', 'brtcNm': '부산광역시', 'signguCode': '710', 'signguNm': '기장군', 'hsmpNm': '부산광역시 기장군', 'rnAdres': '부산광역시 기장군 기장읍 차성동로 164-14', 'pnu': '2671025022103510003', 'competDe': {}, 'hshldCo': 15, 'suplyTyNm': '매입임대', 'styleNm': '28', 'suplyPrvuseAr': 28.39, 'suplyCmnuseAr': 4.18, 'houseTyNm': '다가구주택', 'heatMthdDetailNm': {}, 'buldStleNm': {}, 'elvtrInstlAtNm': {}, 'parkngCo': 0, 'bassRentGtn': 3119000, 'bassMtRntchrg': 90850, 'bassCnvrsGtnLmt': 0}, {'numOfRows': '10000000000', 'pageNo': 1, 'totalCount': 126, 'hsmpSn': 30988936, 'insttNm': 'LH부산울산', 'brtcCode': '26', 'brtcNm': '부산광역시', 'signguCode': '710', 'signguNm': '기장군', 'hsmpNm': '부산광역시 기장군', 'rnAdres': '부산광역시 기장군 기장읍 차성로404번길 58', 'pnu': '2671025022103290012', 'competDe': {}, 'hshldCo': 15, 'suplyTyNm': '매입임대', 'styleNm': '19', 'suplyPrvuseAr': 19.35, 'suplyCmnuseAr': 5.08, 'houseTyNm': '다가구주택', 'heatMthdDetailNm': {}, 'buldStleNm': {}, 'elvtrInstlAtNm': {}, 'parkngCo': 0, 'bassRentGtn': 2339000, 'bassMtRntchrg': 71710, 'bassCnvrsGtnLmt': 0}, {'numOfRows': '10000000000', 'pageNo': 1, 'totalCount': 126, 'hsmpSn': 30988936, 'insttNm': 'LH부산울산', 'brtcCode': '26', 'brtcNm': '부산광역시', 'signguCode': '710', 'signguNm': '기장군', 'hsmpNm': '부산광역시 기장군', 'rnAdres': '부산광역시 기장군 기장읍 차성로404번길 58', 'pnu': '2671025022103290012', 'competDe': {}, 'hshldCo': 15, 'suplyTyNm': '매입임대', 'styleNm': '20', 'suplyPrvuseAr': 20.16, 'suplyCmnuseAr': 5.29, 'houseTyNm': '다가구주택', 'heatMthdDetailNm': {}, 'buldStleNm': {}, 'elvtrInstlAtNm': {}, 'parkngCo': 0, 'bassRentGtn': 2437000, 'bassMtRntchrg': 74620, 'bassCnvrsGtnLmt': 0}, {'numOfRows': '10000000000', 'pageNo': 1, 'totalCount': 126, 'hsmpSn': 30988936, 'insttNm': 'LH부산울산', 'brtcCode': '26', 'brtcNm': '부산광역시', 'signguCode': '710', 'signguNm': '기장군', 'hsmpNm': '부산광역시 기장군', 'rnAdres': '부산광역시 기장군 기장읍 차성로404번길 58', 'pnu': '2671025022103290012', 'competDe': {}, 'hshldCo': 15, 'suplyTyNm': '매입임대', 'styleNm': '20', 'suplyPrvuseAr': 20.4, 'suplyCmnuseAr': 5.35, 'houseTyNm': '다가구주택', 'heatMthdDetailNm': {}, 'buldStleNm': {}, 'elvtrInstlAtNm': {}, 'parkngCo': 0, 'bassRentGtn': 2437000, 'bassMtRntchrg': 76360, 'bassCnvrsGtnLmt': 0}, {'numOfRows': '10000000000', 'pageNo': 1, 'totalCount': 126, 'hsmpSn': 30988936, 'insttNm': 'LH부산울산', 'brtcCode': '26', 'brtcNm': '부산광역시', 'signguCode': '710', 'signguNm': '기장군', 'hsmpNm': '부산광역시 기장군', 'rnAdres': '부산광역시 기장군 기장읍 차성로404번길 58', 'pnu': '2671025022103290012', 'competDe': {}, 'hshldCo': 15, 'suplyTyNm': '매입임대', 'styleNm': '21', 'suplyPrvuseAr': 21.12, 'suplyCmnuseAr': 5.54, 'houseTyNm': '다가구주택', 'heatMthdDetailNm': {}, 'buldStleNm': {}, 'elvtrInstlAtNm': {}, 'parkngCo': 0, 'bassRentGtn': 2535000, 'bassMtRntchrg': 77580, 'bassCnvrsGtnLmt': 0}, {'numOfRows': '10000000000', 'pageNo': 1, 'totalCount': 126, 'hsmpSn': 30988936, 'insttNm': 'LH부산울산', 'brtcCode': '26', 'brtcNm': '부산광역시', 'signguCode': '710', 'signguNm': '기장군', 'hsmpNm': '부산광역시 기장군', 'rnAdres': '부산광역시 기장군 기장읍 차성로404번길 58', 'pnu': '2671025022103290012', 'competDe': {}, 'hshldCo': 15, 'suplyTyNm': '매입임대', 'styleNm': '23', 'suplyPrvuseAr': 23.04, 'suplyCmnuseAr': 6.05, 'houseTyNm': '다가구주택', 'heatMthdDetailNm': {}, 'buldStleNm': {}, 'elvtrInstlAtNm': {}, 'parkngCo': 0, 'bassRentGtn': 2826000, 'bassMtRntchrg': 81200, 'bassCnvrsGtnLmt': 0}, {'numOfRows': '10000000000', 'pageNo': 1, 'totalCount': 126, 'hsmpSn': 30988936, 'insttNm': 'LH부산울산', 'brtcCode': '26', 'brtcNm': '부산광역시', 'signguCode': '710', 'signguNm': '기장군', 'hsmpNm': '부산광역시 기장군', 'rnAdres': '부산광역시 기장군 기장읍 차성로404번길 58', 'pnu': '2671025022103290012', 'competDe': {}, 'hshldCo': 15, 'suplyTyNm': '매입임대', 'styleNm': '23', 'suplyPrvuseAr': 23.9, 'suplyCmnuseAr': 6.27, 'houseTyNm': '다가구주택', 'heatMthdDetailNm': {}, 'buldStleNm': {}, 'elvtrInstlAtNm': {}, 'parkngCo': 0, 'bassRentGtn': 2924000, 'bassMtRntchrg': 87470, 'bassCnvrsGtnLmt': 0}, {'numOfRows': '10000000000', 'pageNo': 1, 'totalCount': 126, 'hsmpSn': 30988936, 'insttNm': 'LH부산울산', 'brtcCode': '26', 'brtcNm': '부산광역시', 'signguCode': '710', 'signguNm': '기장군', 'hsmpNm': '부산광역시 기장군', 'rnAdres': '부산광역시 기장군 기장읍 차성로404번길 58', 'pnu': '2671025022103290012', 'competDe': {}, 'hshldCo': 15, 'suplyTyNm': '매입임대', 'styleNm': '25', 'suplyPrvuseAr': 25.8, 'suplyCmnuseAr': 6.77, 'houseTyNm': '다가구주택', 'heatMthdDetailNm': {}, 'buldStleNm': {}, 'elvtrInstlAtNm': {}, 'parkngCo': 0, 'bassRentGtn': 3119000, 'bassMtRntchrg': 98410, 'bassCnvrsGtnLmt': 0}, {'numOfRows': '10000000000', 'pageNo': 1, 'totalCount': 126, 'hsmpSn': 30988936, 'insttNm': 'LH부산울산', 'brtcCode': '26', 'brtcNm': '부산광역시', 'signguCode': '710', 'signguNm': '기장군', 'hsmpNm': '부산광역시 기장군', 'rnAdres': '부산광역시 기장군 기장읍 차성로404번길 58', 'pnu': '2671025022103290012', 'competDe': {}, 'hshldCo': 15, 'suplyTyNm': '매입임대', 'styleNm': '28', 'suplyPrvuseAr': 28.16, 'suplyCmnuseAr': 7.39, 'houseTyNm': '다가구주택', 'heatMthdDetailNm': {}, 'buldStleNm': {}, 'elvtrInstlAtNm': {}, 'parkngCo': 0, 'bassRentGtn': 3411000, 'bassMtRntchrg': 100450, 'bassCnvrsGtnLmt': 0}, {'numOfRows': '10000000000', 'pageNo': 1, 'totalCount': 126, 'hsmpSn': 30988936, 'insttNm': 'LH부산울산', 'brtcCode': '26', 'brtcNm': '부산광역시', 'signguCode': '710', 'signguNm': '기장군', 'hsmpNm': '부산광역시 기장군', 'rnAdres': '부산광역시 기장군 기장읍 차성로404번길 58', 'pnu': '2671025022103290012', 'competDe': {}, 'hshldCo': 15, 'suplyTyNm': '매입임대', 'styleNm': '81', 'suplyPrvuseAr': 81.1, 'suplyCmnuseAr': 21.32, 'houseTyNm': '다가구주택', 'heatMthdDetailNm': {}, 'buldStleNm': {}, 'elvtrInstlAtNm': {}, 'parkngCo': 0, 'bassRentGtn': 9945000, 'bassMtRntchrg': 305750, 'bassCnvrsGtnLmt': 0}, {'numOfRows': '10000000000', 'pageNo': 1, 'totalCount': 126, 'hsmpSn': 30973562, 'insttNm': 'LH부산울산', 'brtcCode': '26', 'brtcNm': '부산광역시', 'signguCode': '710', 'signguNm': '기장군', 'hsmpNm': '부산고촌 B-2블록', 'rnAdres': '부산광역시 기장군 철마면 고촌로 58', 'pnu': '2671033029106680000', 'competDe': '20160224', 'hshldCo': 214, 'suplyTyNm': '10년임대', 'styleNm': '67', 'suplyPrvuseAr': 67.89, 'suplyCmnuseAr': 21.8183, 'houseTyNm': '아파트', 'heatMthdDetailNm': {}, 'buldStleNm': {}, 'elvtrInstlAtNm': {}, 'parkngCo': 0, 'bassRentGtn': 36610000, 'bassMtRntchrg': 467560, 'bassCnvrsGtnLmt': 67000000}, {'numOfRows': '10000000000', 'pageNo': 1, 'totalCount': 126, 'hsmpSn': 30973562, 'insttNm': 'LH부산울산', 'brtcCode': '26', 'brtcNm': '부산광역시', 'signguCode': '710', 'signguNm': '기장군', 'hsmpNm': '부산고촌 B-2블록', 'rnAdres': '부산광역시 기장군 철마면 고촌로 58', 'pnu': '2671033029106680000', 'competDe': '20160224', 'hshldCo': 214, 'suplyTyNm': '10년임대', 'styleNm': '74', 'suplyPrvuseAr': 74.37, 'suplyCmnuseAr': 23.9008, 'houseTyNm': '아파트', 'heatMthdDetailNm': {}, 'buldStleNm': {}, 'elvtrInstlAtNm': {}, 'parkngCo': 0, 'bassRentGtn': 41840000, 'bassMtRntchrg': 496850, 'bassCnvrsGtnLmt': 71000000}, {'numOfRows': '10000000000', 'pageNo': 1, 'totalCount': 126, 'hsmpSn': 30973562, 'insttNm': 'LH부산울산', 'brtcCode': '26', 'brtcNm': '부산광역시', 'signguCode': '710', 'signguNm': '기장군', 'hsmpNm': '부산고촌 B-2블록', 'rnAdres': '부산광역시 기장군 철마면 고촌로 58', 'pnu': '2671033029106680000', 'competDe': '20160224', 'hshldCo': 214, 'suplyTyNm': '10년임대', 'styleNm': '74', 'suplyPrvuseAr': 74.54, 'suplyCmnuseAr': 23.9555, 'houseTyNm': '아파트', 'heatMthdDetailNm': {}, 'buldStleNm': {}, 'elvtrInstlAtNm': {}, 'parkngCo': 0, 'bassRentGtn': 42886000, 'bassMtRntchrg': 496850, 'bassCnvrsGtnLmt': 71000000}, {'numOfRows': '10000000000', 'pageNo': 1, 'totalCount': 126, 'hsmpSn': 30973562, 'insttNm': 'LH부산울산', 'brtcCode': '26', 'brtcNm': '부산광역시', 'signguCode': '710', 'signguNm': '기장군', 'hsmpNm': '부산고촌 B-2블록', 'rnAdres': '부산광역시 기장군 철마면 고촌로 58', 'pnu': '2671033029106680000', 'competDe': '20160224', 'hshldCo': 214, 'suplyTyNm': '10년임대', 'styleNm': '74', 'suplyPrvuseAr': 74.78, 'suplyCmnuseAr': 24.0326, 'houseTyNm': '아파트', 'heatMthdDetailNm': {}, 'buldStleNm': {}, 'elvtrInstlAtNm': {}, 'parkngCo': 0, 'bassRentGtn': 42886000, 'bassMtRntchrg': 496850, 'bassCnvrsGtnLmt': 71000000}, {'numOfRows': '10000000000', 'pageNo': 1, 'totalCount': 126, 'hsmpSn': 30973562, 'insttNm': 'LH부산울산', 'brtcCode': '26', 'brtcNm': '부산광역시', 'signguCode': '710', 'signguNm': '기장군', 'hsmpNm': '부산고촌 B-2블록', 'rnAdres': '부산광역시 기장군 철마면 고촌로 58', 'pnu': '2671033029106680000', 'competDe': '20160224', 'hshldCo': 214, 'suplyTyNm': '10년임대', 'styleNm': '84', 'suplyPrvuseAr': 84.74, 'suplyCmnuseAr': 27.2335, 'houseTyNm': '아파트', 'heatMthdDetailNm': {}, 'buldStleNm': {}, 'elvtrInstlAtNm': {}, 'parkngCo': 0, 'bassRentGtn': 53346000, 'bassMtRntchrg': 596220, 'bassCnvrsGtnLmt': 85000000}, {'numOfRows': '10000000000', 'pageNo': 1, 'totalCount': 126, 'hsmpSn': 30973562, 'insttNm': 'LH부산울산', 'brtcCode': '26', 'brtcNm': '부산광역시', 'signguCode': '710', 'signguNm': '기장군', 'hsmpNm': '부산고촌 B-2블록', 'rnAdres': '부산광역시 기장군 철마면 고촌로 58', 'pnu': '2671033029106680000', 'competDe': '20160224', 'hshldCo': 214, 'suplyTyNm': '10년임대', 'styleNm': '84', 'suplyPrvuseAr': 84.82, 'suplyCmnuseAr': 27.2592, 'houseTyNm': '아파트', 'heatMthdDetailNm': {}, 'buldStleNm': {}, 'elvtrInstlAtNm': {}, 'parkngCo': 0, 'bassRentGtn': 54392000, 'bassMtRntchrg': 496850, 'bassCnvrsGtnLmt': 71000000}, {'numOfRows': '10000000000', 'pageNo': 1, 'totalCount': 126, 'hsmpSn': 30973562, 'insttNm': 'LH부산울산', 'brtcCode': '26', 'brtcNm': '부산광역시', 'signguCode': '710', 'signguNm': '기장군', 'hsmpNm': '부산고촌 B-2블록', 'rnAdres': '부산광역시 기장군 철마면 고촌로 58', 'pnu': '2671033029106680000', 'competDe': '20160224', 'hshldCo': 214, 'suplyTyNm': '10년임대', 'styleNm': '84', 'suplyPrvuseAr': 84.86, 'suplyCmnuseAr': 27.2721, 'houseTyNm': '아파트', 'heatMthdDetailNm': {}, 'buldStleNm': {}, 'elvtrInstlAtNm': {}, 'parkngCo': 0, 'bassRentGtn': 55438000, 'bassMtRntchrg': 496850, 'bassCnvrsGtnLmt': 71000000}, {'numOfRows': '10000000000', 'pageNo': 1, 'totalCount': 126, 'hsmpSn': 30973562, 'insttNm': 'LH부산울산', 'brtcCode': '26', 'brtcNm': '부산광역시', 'signguCode': '710', 'signguNm': '기장군', 'hsmpNm': '부산고촌 B-2블록', 'rnAdres': '부산광역시 기장군 철마면 고촌로 58', 'pnu': '2671033029106680000', 'competDe': '20160224', 'hshldCo': 214, 'suplyTyNm': '10년임대', 'styleNm': '84', 'suplyPrvuseAr': 84.96, 'suplyCmnuseAr': 27.3042, 'houseTyNm': '아파트', 'heatMthdDetailNm': {}, 'buldStleNm': {}, 'elvtrInstlAtNm': {}, 'parkngCo': 0, 'bassRentGtn': 54392000, 'bassMtRntchrg': 496850, 'bassCnvrsGtnLmt': 71000000}, {'numOfRows': '10000000000', 'pageNo': 1, 'totalCount': 126, 'hsmpSn': 30952272, 'insttNm': 'LH부산울산', 'brtcCode': '26', 'brtcNm': '부산광역시', 'signguCode': '710', 'signguNm': '기장군', 'hsmpNm': '부산광역시 기장군', 'rnAdres': '부산광역시 기장군 기장읍 대청로45번길 7', 'pnu': '2671025026102680005', 'competDe': {}, 'hshldCo': 1, 'suplyTyNm': '매입임대', 'styleNm': '33', 'suplyPrvuseAr': 33.96, 'suplyCmnuseAr': 7.18, 'houseTyNm': {}, 'heatMthdDetailNm': {}, 'buldStleNm': {}, 'elvtrInstlAtNm': {}, 'parkngCo': 0, 'bassRentGtn': 4460000, 'bassMtRntchrg': 110940, 'bassCnvrsGtnLmt': 0}, {'numOfRows': '10000000000', 'pageNo': 1, 'totalCount': 126, 'hsmpSn': 30855994, 'insttNm': 'LH부산울산', 'brtcCode': '26', 'brtcNm': '부산광역시', 'signguCode': '710', 'signguNm': '기장군', 'hsmpNm': '부산광역시 기장군', 'rnAdres': '부산광역시 기장군 기장읍 대청로45번길 7', 'pnu': '2671025026102680005', 'competDe': {}, 'hshldCo': 4, 'suplyTyNm': '매입임대', 'styleNm': '33', 'suplyPrvuseAr': 33.96, 'suplyCmnuseAr': 7.18, 'houseTyNm': {}, 'heatMthdDetailNm': {}, 'buldStleNm': {}, 'elvtrInstlAtNm': {}, 'parkngCo': 0, 'bassRentGtn': 4575000, 'bassMtRntchrg': 113200, 'bassCnvrsGtnLmt': 0}, {'numOfRows': '10000000000', 'pageNo': 1, 'totalCount': 126, 'hsmpSn': 30855994, 'insttNm': 'LH부산울산', 'brtcCode': '26', 'brtcNm': '부산광역시', 'signguCode': '710', 'signguNm': '기장군', 'hsmpNm': '부산광역시 기장군', 'rnAdres': '부산광역시 기장군 기장읍 대청로45번길 7', 'pnu': '2671025026102680005', 'competDe': {}, 'hshldCo': 4, 'suplyTyNm': '매입임대', 'styleNm': '34', 'suplyPrvuseAr': 34.17, 'suplyCmnuseAr': 7.23, 'houseTyNm': {}, 'heatMthdDetailNm': {}, 'buldStleNm': {}, 'elvtrInstlAtNm': {}, 'parkngCo': 0, 'bassRentGtn': 4575000, 'bassMtRntchrg': 119460, 'bassCnvrsGtnLmt': 0}, {'numOfRows': '10000000000', 'pageNo': 1, 'totalCount': 126, 'hsmpSn': 30855886, 'insttNm': 'LH부산울산', 'brtcCode': '26', 'brtcNm': '부산광역시', 'signguCode': '710', 'signguNm': '기장군', 'hsmpNm': '부산광역시 기장군', 'rnAdres': '부산광역시 기장군 기장읍 대청로45번길 7', 'pnu': '2671025026102680005', 'competDe': {}, 'hshldCo': 11, 'suplyTyNm': '매입임대', 'styleNm': '33', 'suplyPrvuseAr': 33.79, 'suplyCmnuseAr': 7.15, 'houseTyNm': {}, 'heatMthdDetailNm': {}, 'buldStleNm': {}, 'elvtrInstlAtNm': {}, 'parkngCo': 0, 'bassRentGtn': 4464000, 'bassMtRntchrg': 110660, 'bassCnvrsGtnLmt': 0}, {'numOfRows': '10000000000', 'pageNo': 1, 'totalCount': 126, 'hsmpSn': 30855886, 'insttNm': 'LH부산울산', 'brtcCode': '26', 'brtcNm': '부산광역시', 'signguCode': '710', 'signguNm': '기장군', 'hsmpNm': '부산광역시 기장군', 'rnAdres': '부산광역시 기장군 기장읍 대청로45번길 7', 'pnu': '2671025026102680005', 'competDe': {}, 'hshldCo': 11, 'suplyTyNm': '매입임대', 'styleNm': '33', 'suplyPrvuseAr': 33.96, 'suplyCmnuseAr': 7.18, 'houseTyNm': {}, 'heatMthdDetailNm': {}, 'buldStleNm': {}, 'elvtrInstlAtNm': {}, 'parkngCo': 0, 'bassRentGtn': 4575000, 'bassMtRntchrg': 113200, 'bassCnvrsGtnLmt': 0}, {'numOfRows': '10000000000', 'pageNo': 1, 'totalCount': 126, 'hsmpSn': 30855886, 'insttNm': 'LH부산울산', 'brtcCode': '26', 'brtcNm': '부산광역시', 'signguCode': '710', 'signguNm': '기장군', 'hsmpNm': '부산광역시 기장군', 'rnAdres': '부산광역시 기장군 기장읍 대청로45번길 7', 'pnu': '2671025026102680005', 'competDe': {}, 'hshldCo': 11, 'suplyTyNm': '매입임대', 'styleNm': '34', 'suplyPrvuseAr': 34, 'suplyCmnuseAr': 7.19, 'houseTyNm': {}, 'heatMthdDetailNm': {}, 'buldStleNm': {}, 'elvtrInstlAtNm': {}, 'parkngCo': 0, 'bassRentGtn': 4575000, 'bassMtRntchrg': 118700, 'bassCnvrsGtnLmt': 0}, {'numOfRows': '10000000000', 'pageNo': 1, 'totalCount': 126, 'hsmpSn': 30855886, 'insttNm': 'LH부산울산', 'brtcCode': '26', 'brtcNm': '부산광역시', 'signguCode': '710', 'signguNm': '기장군', 'hsmpNm': '부산광역시 기장군', 'rnAdres': '부산광역시 기장군 기장읍 대청로45번길 7', 'pnu': '2671025026102680005', 'competDe': {}, 'hshldCo': 11, 'suplyTyNm': '매입임대', 'styleNm': '34', 'suplyPrvuseAr': 34.17, 'suplyCmnuseAr': 7.23, 'houseTyNm': {}, 'heatMthdDetailNm': {}, 'buldStleNm': {}, 'elvtrInstlAtNm': {}, 'parkngCo': 0, 'bassRentGtn': 4575000, 'bassMtRntchrg': 119460, 'bassCnvrsGtnLmt': 0}, {'numOfRows': '10000000000', 'pageNo': 1, 'totalCount': 126, 'hsmpSn': 30854787, 'insttNm': 'LH부산울산', 'brtcCode': '26', 'brtcNm': '부산광역시', 'signguCode': '710', 'signguNm': '기장군', 'hsmpNm': '부산광역시 기장군', 'rnAdres': '부산광역시 기장군 기장읍 대청로 50', 'pnu': '2671025026101690002', 'competDe': {}, 'hshldCo': 9, 'suplyTyNm': '매입임대', 'styleNm': '52', 'suplyPrvuseAr': 52.14, 'suplyCmnuseAr': 9.534, 'houseTyNm': '다가구주택', 'heatMthdDetailNm': {}, 'buldStleNm': {}, 'elvtrInstlAtNm': {}, 'parkngCo': 0, 'bassRentGtn': 6100000, 'bassMtRntchrg': 134630, 'bassCnvrsGtnLmt': 0}, {'numOfRows': '10000000000', 'pageNo': 1, 'totalCount': 126, 'hsmpSn': 30854787, 'insttNm': 'LH부산울산', 'brtcCode': '26', 'brtcNm': '부산광역시', 'signguCode': '710', 'signguNm': '기장군', 'hsmpNm': '부산광역시 기장군', 'rnAdres': '부산광역시 기장군 기장읍 대청로 50', 'pnu': '2671025026101690002', 'competDe': {}, 'hshldCo': 9, 'suplyTyNm': '매입임대', 'styleNm': '52', 'suplyPrvuseAr': 52.63, 'suplyCmnuseAr': 9.623, 'houseTyNm': '다가구주택', 'heatMthdDetailNm': {}, 'buldStleNm': {}, 'elvtrInstlAtNm': {}, 'parkngCo': 0, 'bassRentGtn': 6200000, 'bassMtRntchrg': 129550, 'bassCnvrsGtnLmt': 0}, {'numOfRows': '10000000000', 'pageNo': 1, 'totalCount': 126, 'hsmpSn': 30701292, 'insttNm': 'LH부산울산', 'brtcCode': '26', 'brtcNm': '부산광역시', 'signguCode': '710', 'signguNm': '기장군', 'hsmpNm': '부산광역시 기장군', 'rnAdres': '부산광역시 기장군 기장읍 차성로326번길 23', 'pnu': '2671025021101580005', 'competDe': {}, 'hshldCo': 5, 'suplyTyNm': '매입임대', 'styleNm': '47', 'suplyPrvuseAr': 47.71, 'suplyCmnuseAr': 46.52, 'houseTyNm': {}, 'heatMthdDetailNm': {}, 'buldStleNm': {}, 'elvtrInstlAtNm': {}, 'parkngCo': 0, 'bassRentGtn': 6982000, 'bassMtRntchrg': 154280, 'bassCnvrsGtnLmt': 0}, {'numOfRows': '10000000000', 'pageNo': 1, 'totalCount': 126, 'hsmpSn': 30701291, 'insttNm': 'LH부산울산', 'brtcCode': '26', 'brtcNm': '부산광역시', 'signguCode': '710', 'signguNm': '기장군', 'hsmpNm': '부산광역시 기장군', 'rnAdres': '부산광역시 기장군 기장읍 차성남로27번길 2', 'pnu': '2671025026110200000', 'competDe': {}, 'hshldCo': 8, 'suplyTyNm': '매입임대', 'styleNm': '50', 'suplyPrvuseAr': 50, 'suplyCmnuseAr': 9.77, 'houseTyNm': {}, 'heatMthdDetailNm': {}, 'buldStleNm': {}, 'elvtrInstlAtNm': {}, 'parkngCo': 0, 'bassRentGtn': 6652000, 'bassMtRntchrg': 126650, 'bassCnvrsGtnLmt': 0}, {'numOfRows': '10000000000', 'pageNo': 1, 'totalCount': 126, 'hsmpSn': 30701290, 'insttNm': 'LH부산울산', 'brtcCode': '26', 'brtcNm': '부산광역시', 'signguCode': '710', 'signguNm': '기장군', 'hsmpNm': '부산광역시 기장군', 'rnAdres': '부산광역시 기장군 기장읍 대청로71번길 33', 'pnu': '2671025027102730013', 'competDe': {}, 'hshldCo': 8, 'suplyTyNm': '매입임대', 'styleNm': '68', 'suplyPrvuseAr': 68.05, 'suplyCmnuseAr': 14.39, 'houseTyNm': {}, 'heatMthdDetailNm': {}, 'buldStleNm': {}, 'elvtrInstlAtNm': {}, 'parkngCo': 0, 'bassRentGtn': 7970000, 'bassMtRntchrg': 189160, 'bassCnvrsGtnLmt': 0}, {'numOfRows': '10000000000', 'pageNo': 1, 'totalCount': 126, 'hsmpSn': 30701289, 'insttNm': 'LH부산울산', 'brtcCode': '26', 'brtcNm': '부산광역시', 'signguCode': '710', 'signguNm': '기장군', 'hsmpNm': '부산광역시 기장군', 'rnAdres': '부산광역시 기장군 기장읍 대청로36번길 55', 'pnu': '2671025026101880011', 'competDe': {}, 'hshldCo': 8, 'suplyTyNm': '매입임대', 'styleNm': '49', 'suplyPrvuseAr': 49.84, 'suplyCmnuseAr': 11.82, 'houseTyNm': {}, 'heatMthdDetailNm': {}, 'buldStleNm': {}, 'elvtrInstlAtNm': {}, 'parkngCo': 0, 'bassRentGtn': 6878000, 'bassMtRntchrg': 122760, 'bassCnvrsGtnLmt': 0}, {'numOfRows': '10000000000', 'pageNo': 1, 'totalCount': 126, 'hsmpSn': 30701288, 'insttNm': 'LH부산울산', 'brtcCode': '26', 'brtcNm': '부산광역시', 'signguCode': '710', 'signguNm': '기장군', 'hsmpNm': '부산광역시 기장군', 'rnAdres': '부산광역시 기장군 기장읍 대청로14번길 11', 'pnu': '2671025026101640012', 'competDe': {}, 'hshldCo': 3, 'suplyTyNm': '매입임대', 'styleNm': '44', 'suplyPrvuseAr': 44.43, 'suplyCmnuseAr': 10.05, 'houseTyNm': {}, 'heatMthdDetailNm': {}, 'buldStleNm': {}, 'elvtrInstlAtNm': {}, 'parkngCo': 0, 'bassRentGtn': 6087000, 'bassMtRntchrg': 74580, 'bassCnvrsGtnLmt': 0}, {'numOfRows': '10000000000', 'pageNo': 1, 'totalCount': 126, 'hsmpSn': 30701288, 'insttNm': 'LH부산울산', 'brtcCode': '26', 'brtcNm': '부산광역시', 'signguCode': '710', 'signguNm': '기장군', 'hsmpNm': '부산광역시 기장군', 'rnAdres': '부산광역시 기장군 기장읍 대청로14번길 11', 'pnu': '2671025026101640012', 'competDe': {}, 'hshldCo': 3, 'suplyTyNm': '매입임대', 'styleNm': '48', 'suplyPrvuseAr': 48.54, 'suplyCmnuseAr': 10.98, 'houseTyNm': {}, 'heatMthdDetailNm': {}, 'buldStleNm': {}, 'elvtrInstlAtNm': {}, 'parkngCo': 0, 'bassRentGtn': 6652000, 'bassMtRntchrg': 78190, 'bassCnvrsGtnLmt': 0}, {'numOfRows': '10000000000', 'pageNo': 1, 'totalCount': 126, 'hsmpSn': 30701287, 'insttNm': 'LH부산울산', 'brtcCode': '26', 'brtcNm': '부산광역시', 'signguCode': '710', 'signguNm': '기장군', 'hsmpNm': '부산광역시 기장군', 'rnAdres': '부산광역시 기장군 기장읍 대청로14번길 11', 'pnu': '2671025026101640012', 'competDe': {}, 'hshldCo': 8, 'suplyTyNm': '매입임대', 'styleNm': '39', 'suplyPrvuseAr': 39.62, 'suplyCmnuseAr': 8.9632, 'houseTyNm': {}, 'heatMthdDetailNm': {}, 'buldStleNm': {}, 'elvtrInstlAtNm': {}, 'parkngCo': 0, 'bassRentGtn': 5412000, 'bassMtRntchrg': 98070, 'bassCnvrsGtnLmt': 0}, {'numOfRows': '10000000000', 'pageNo': 1, 'totalCount': 126, 'hsmpSn': 30701287, 'insttNm': 'LH부산울산', 'brtcCode': '26', 'brtcNm': '부산광역시', 'signguCode': '710', 'signguNm': '기장군', 'hsmpNm': '부산광역시 기장군', 'rnAdres': '부산광역시 기장군 기장읍 대청로14번길 11', 'pnu': '2671025026101640012', 'competDe': {}, 'hshldCo': 8, 'suplyTyNm': '매입임대', 'styleNm': '49', 'suplyPrvuseAr': 49.365, 'suplyCmnuseAr': 11.1693, 'houseTyNm': {}, 'heatMthdDetailNm': {}, 'buldStleNm': {}, 'elvtrInstlAtNm': {}, 'parkngCo': 0, 'bassRentGtn': 6764000, 'bassMtRntchrg': 111870, 'bassCnvrsGtnLmt': 0}, {'numOfRows': '10000000000', 'pageNo': 1, 'totalCount': 126, 'hsmpSn': 30701287, 'insttNm': 'LH부산울산', 'brtcCode': '26', 'brtcNm': '부산광역시', 'signguCode': '710', 'signguNm': '기장군', 'hsmpNm': '부산광역시 기장군', 'rnAdres': '부산광역시 기장군 기장읍 대청로14번길 11', 'pnu': '2671025026101640012', 'competDe': {}, 'hshldCo': 8, 'suplyTyNm': '매입임대', 'styleNm': '49', 'suplyPrvuseAr': 49.37, 'suplyCmnuseAr': 11.1693, 'houseTyNm': {}, 'heatMthdDetailNm': {}, 'buldStleNm': {}, 'elvtrInstlAtNm': {}, 'parkngCo': 0, 'bassRentGtn': 6764000, 'bassMtRntchrg': 111870, 'bassCnvrsGtnLmt': 0}, {'numOfRows': '10000000000', 'pageNo': 1, 'totalCount': 126, 'hsmpSn': 30701286, 'insttNm': 'LH부산울산', 'brtcCode': '26', 'brtcNm': '부산광역시', 'signguCode': '710', 'signguNm': '기장군', 'hsmpNm': '부산광역시 기장군', 'rnAdres': '부산광역시 기장군 기장읍 대청로13번길 8', 'pnu': '2671025026102650000', 'competDe': {}, 'hshldCo': 10, 'suplyTyNm': '매입임대', 'styleNm': '48', 'suplyPrvuseAr': 48.65, 'suplyCmnuseAr': 10.17, 'houseTyNm': '다세대주택', 'heatMthdDetailNm': {}, 'buldStleNm': {}, 'elvtrInstlAtNm': {}, 'parkngCo': 0, 'bassRentGtn': 5637000, 'bassMtRntchrg': 137880, 'bassCnvrsGtnLmt': 0}, {'numOfRows': '10000000000', 'pageNo': 1, 'totalCount': 126, 'hsmpSn': 30701286, 'insttNm': 'LH부산울산', 'brtcCode': '26', 'brtcNm': '부산광역시', 'signguCode': '710', 'signguNm': '기장군', 'hsmpNm': '부산광역시 기장군', 'rnAdres': '부산광역시 기장군 기장읍 대청로13번길 8', 'pnu': '2671025026102650000', 'competDe': {}, 'hshldCo': 10, 'suplyTyNm': '매입임대', 'styleNm': '49', 'suplyPrvuseAr': 49.53, 'suplyCmnuseAr': 10.35, 'houseTyNm': '다세대주택', 'heatMthdDetailNm': {}, 'buldStleNm': {}, 'elvtrInstlAtNm': {}, 'parkngCo': 0, 'bassRentGtn': 5735000, 'bassMtRntchrg': 140400, 'bassCnvrsGtnLmt': 0}, {'numOfRows': '10000000000', 'pageNo': 1, 'totalCount': 126, 'hsmpSn': 30701197, 'insttNm': 'LH부산울산', 'brtcCode': '26', 'brtcNm': '부산광역시', 'signguCode': '710', 'signguNm': '기장군', 'hsmpNm': '대라빌(101동)', 'rnAdres': '부산광역시 기장군 기장읍 차성남로 8-15', 'pnu': '2671025026109540000', 'competDe': '20131203', 'hshldCo': 16, 'suplyTyNm': '매입임대', 'styleNm': '50', 'suplyPrvuseAr': 50.022, 'suplyCmnuseAr': 15.5282, 'houseTyNm': '다가구주택', 'heatMthdDetailNm': '개별가스난방', 'buldStleNm': '계단식', 'elvtrInstlAtNm': {}, 'parkngCo': 0, 'bassRentGtn': 62714000, 'bassMtRntchrg': 0, 'bassCnvrsGtnLmt': 0}, {'numOfRows': '10000000000', 'pageNo': 1, 'totalCount': 126, 'hsmpSn': 30701197, 'insttNm': 'LH부산울산', 'brtcCode': '26', 'brtcNm': '부산광역시', 'signguCode': '710', 'signguNm': '기장군', 'hsmpNm': '대라빌(101동)', 'rnAdres': '부산광역시 기장군 기장읍 차성남로 8-15', 'pnu': '2671025026109540000', 'competDe': '20131203', 'hshldCo': 16, 'suplyTyNm': '매입임대', 'styleNm': '53', 'suplyPrvuseAr': 53.982, 'suplyCmnuseAr': 16.6181, 'houseTyNm': '다가구주택', 'heatMthdDetailNm': '개별가스난방', 'buldStleNm': '계단식', 'elvtrInstlAtNm': {}, 'parkngCo': 0, 'bassRentGtn': 68128000, 'bassMtRntchrg': 0, 'bassCnvrsGtnLmt': 0}, {'numOfRows': '10000000000', 'pageNo': 1, 'totalCount': 126, 'hsmpSn': 30701197, 'insttNm': 'LH부산울산', 'brtcCode': '26', 'brtcNm': '부산광역시', 'signguCode': '710', 'signguNm': '기장군', 'hsmpNm': '대라빌(101동)', 'rnAdres': '부산광역시 기장군 기장읍 차성남로 8-15', 'pnu': '2671025026109540000', 'competDe': '20131203', 'hshldCo': 16, 'suplyTyNm': '매입임대', 'styleNm': '58', 'suplyPrvuseAr': 58.86, 'suplyCmnuseAr': 18.386, 'houseTyNm': '다가구주택', 'heatMthdDetailNm': '개별가스난방', 'buldStleNm': '계단식', 'elvtrInstlAtNm': {}, 'parkngCo': 0, 'bassRentGtn': 73994000, 'bassMtRntchrg': 0, 'bassCnvrsGtnLmt': 0}, {'numOfRows': '10000000000', 'pageNo': 1, 'totalCount': 126, 'hsmpSn': 30701197, 'insttNm': 'LH부산울산', 'brtcCode': '26', 'brtcNm': '부산광역시', 'signguCode': '710', 'signguNm': '기장군', 'hsmpNm': '대라빌(101동)', 'rnAdres': '부산광역시 기장군 기장읍 차성남로 8-15', 'pnu': '2671025026109540000', 'competDe': '20131203', 'hshldCo': 16, 'suplyTyNm': '매입임대', 'styleNm': '58', 'suplyPrvuseAr': 58.86, 'suplyCmnuseAr': 18.3861, 'houseTyNm': '다가구주택', 'heatMthdDetailNm': '개별가스난방', 'buldStleNm': '계단식', 'elvtrInstlAtNm': {}, 'parkngCo': 0, 'bassRentGtn': 73994000, 'bassMtRntchrg': 0, 'bassCnvrsGtnLmt': 0}, {'numOfRows': '10000000000', 'pageNo': 1, 'totalCount': 126, 'hsmpSn': 30700419, 'insttNm': 'LH부산울산', 'brtcCode': '26', 'brtcNm': '부산광역시', 'signguCode': '710', 'signguNm': '기장군', 'hsmpNm': '부산정관 5단지(A-19BL)', 'rnAdres': '부산광역시 기장군 정관읍 산단2로 60', 'pnu': '2671025625112020000', 'competDe': '20130820', 'hshldCo': 1128, 'suplyTyNm': '국민임대', 'styleNm': '46', 'suplyPrvuseAr': 46.72, 'suplyCmnuseAr': 20.3551, 'houseTyNm': '아파트', 'heatMthdDetailNm': '지역난방', 'buldStleNm': '혼합식', 'elvtrInstlAtNm': '전체동 설치', 'parkngCo': 951, 'bassRentGtn': 21096000, 'bassMtRntchrg': 261410, 'bassCnvrsGtnLmt': 31000000}, {'numOfRows': '10000000000', 'pageNo': 1, 'totalCount': 126, 'hsmpSn': 30700419, 'insttNm': 'LH부산울산', 'brtcCode': '26', 'brtcNm': '부산광역시', 'signguCode': '710', 'signguNm': '기장군', 'hsmpNm': '부산정관 5단지(A-19BL)', 'rnAdres': '부산광역시 기장군 정관읍 산단2로 60', 'pnu': '2671025625112020000', 'competDe': '20130820', 'hshldCo': 1128, 'suplyTyNm': '국민임대', 'styleNm': '51', 'suplyPrvuseAr': 51.56, 'suplyCmnuseAr': 22.4638, 'houseTyNm': '아파트', 'heatMthdDetailNm': '지역난방', 'buldStleNm': '혼합식', 'elvtrInstlAtNm': '전체동 설치', 'parkngCo': 951, 'bassRentGtn': 23733000, 'bassMtRntchrg': 285500, 'bassCnvrsGtnLmt': 34000000}, {'numOfRows': '10000000000', 'pageNo': 1, 'totalCount': 126, 'hsmpSn': 30700419, 'insttNm': 'LH부산울산', 'brtcCode': '26', 'brtcNm': '부산광역시', 'signguCode': '710', 'signguNm': '기장군', 'hsmpNm': '부산정관 5단지(A-19BL)', 'rnAdres': '부산광역시 기장군 정관읍 산단2로 60', 'pnu': '2671025625112020000', 'competDe': '20130820', 'hshldCo': 1128, 'suplyTyNm': '국민임대', 'styleNm': '59', 'suplyPrvuseAr': 59.94, 'suplyCmnuseAr': 26.1149, 'houseTyNm': '아파트', 'heatMthdDetailNm': '지역난방', 'buldStleNm': '혼합식', 'elvtrInstlAtNm': '전체동 설치', 'parkngCo': 951, 'bassRentGtn': 27746000, 'bassMtRntchrg': 327920, 'bassCnvrsGtnLmt': 39000000}, {'numOfRows': '10000000000', 'pageNo': 1, 'totalCount': 126, 'hsmpSn': 30700375, 'insttNm': 'LH부산울산', 'brtcCode': '26', 'brtcNm': '부산광역시', 'signguCode': '710', 'signguNm': '기장군', 'hsmpNm': '정관휴먼시아4단지', 'rnAdres': '부산광역시 기장군 정관읍 산단4로 160', 'pnu': '2671025625112310000', 'competDe': '20120708', 'hshldCo': 964, 'suplyTyNm': '국민임대', 'styleNm': '46', 'suplyPrvuseAr': 46.46, 'suplyCmnuseAr': 19.2741, 'houseTyNm': '아파트', 'heatMthdDetailNm': '개별가스난방', 'buldStleNm': '혼합식', 'elvtrInstlAtNm': '전체동 설치', 'parkngCo': 818, 'bassRentGtn': 28723000, 'bassMtRntchrg': 160740, 'bassCnvrsGtnLmt': 19000000}, {'numOfRows': '10000000000', 'pageNo': 1, 'totalCount': 126, 'hsmpSn': 30700375, 'insttNm': 'LH부산울산', 'brtcCode': '26', 'brtcNm': '부산광역시', 'signguCode': '710', 'signguNm': '기장군', 'hsmpNm': '정관휴먼시아4단지', 'rnAdres': '부산광역시 기장군 정관읍 산단4로 160', 'pnu': '2671025625112310000', 'competDe': '20120708', 'hshldCo': 964, 'suplyTyNm': '국민임대', 'styleNm': '46', 'suplyPrvuseAr': 46.98, 'suplyCmnuseAr': 19.4899, 'houseTyNm': '아파트', 'heatMthdDetailNm': '개별가스난방', 'buldStleNm': '혼합식', 'elvtrInstlAtNm': '전체동 설치', 'parkngCo': 818, 'bassRentGtn': 28723000, 'bassMtRntchrg': 160740, 'bassCnvrsGtnLmt': 19000000}, {'numOfRows': '10000000000', 'pageNo': 1, 'totalCount': 126, 'hsmpSn': 30700375, 'insttNm': 'LH부산울산', 'brtcCode': '26', 'brtcNm': '부산광역시', 'signguCode': '710', 'signguNm': '기장군', 'hsmpNm': '정관휴먼시아4단지', 'rnAdres': '부산광역시 기장군 정관읍 산단4로 160', 'pnu': '2671025625112310000', 'competDe': '20120708', 'hshldCo': 964, 'suplyTyNm': '국민임대', 'styleNm': '51', 'suplyPrvuseAr': 51.6, 'suplyCmnuseAr': 21.4065, 'houseTyNm': '아파트', 'heatMthdDetailNm': '개별가스난방', 'buldStleNm': '혼합식', 'elvtrInstlAtNm': '전체동 설치', 'parkngCo': 818, 'bassRentGtn': 34280000, 'bassMtRntchrg': 206850, 'bassCnvrsGtnLmt': 24000000}, {'numOfRows': '10000000000', 'pageNo': 1, 'totalCount': 126, 'hsmpSn': 30700375, 'insttNm': 'LH부산울산', 'brtcCode': '26', 'brtcNm': '부산광역시', 'signguCode': '710', 'signguNm': '기장군', 'hsmpNm': '정관휴먼시아4단지', 'rnAdres': '부산광역시 기장군 정관읍 산단4로 160', 'pnu': '2671025625112310000', 'competDe': '20120708', 'hshldCo': 964, 'suplyTyNm': '국민임대', 'styleNm': '59', 'suplyPrvuseAr': 59.86, 'suplyCmnuseAr': 24.8332, 'houseTyNm': '아파트', 'heatMthdDetailNm': '개별가스난방', 'buldStleNm': '혼합식', 'elvtrInstlAtNm': '전체동 설치', 'parkngCo': 818, 'bassRentGtn': 40781000, 'bassMtRntchrg': 239950, 'bassCnvrsGtnLmt': 28000000}, {'numOfRows': '10000000000', 'pageNo': 1, 'totalCount': 126, 'hsmpSn': 30700027, 'insttNm': 'LH부산울산', 'brtcCode': '26', 'brtcNm': '부산광역시', 'signguCode': '710', 'signguNm': '기장군', 'hsmpNm': '정관신도시휴먼시아2단지', 'rnAdres': '부산광역시 기장군 정관읍 정관2로 24', 'pnu': '2671025627107680000', 'competDe': '20100104', 'hshldCo': 1301, 'suplyTyNm': '국민임대', 'styleNm': '51', 'suplyPrvuseAr': 51.77, 'suplyCmnuseAr': 19.895, 'houseTyNm': '아파트', 'heatMthdDetailNm': '지역가스난방', 'buldStleNm': '혼합식', 'elvtrInstlAtNm': '전체동 설치', 'parkngCo': 1101, 'bassRentGtn': 28491000, 'bassMtRntchrg': 167230, 'bassCnvrsGtnLmt': 20000000}, {'numOfRows': '10000000000', 'pageNo': 1, 'totalCount': 126, 'hsmpSn': 30700027, 'insttNm': 'LH부산울산', 'brtcCode': '26', 'brtcNm': '부산광역시', 'signguCode': '710', 'signguNm': '기장군', 'hsmpNm': '정관신도시휴먼시아2단지', 'rnAdres': '부산광역시 기장군 정관읍 정관2로 24', 'pnu': '2671025627107680000', 'competDe': '20100104', 'hshldCo': 1301, 'suplyTyNm': '국민임대', 'styleNm': '51', 'suplyPrvuseAr': 51.93, 'suplyCmnuseAr': 19.9565, 'houseTyNm': '아파트', 'heatMthdDetailNm': '지역가스난방', 'buldStleNm': '혼합식', 'elvtrInstlAtNm': '전체동 설치', 'parkngCo': 1101, 'bassRentGtn': 28491000, 'bassMtRntchrg': 167230, 'bassCnvrsGtnLmt': 20000000}, {'numOfRows': '10000000000', 'pageNo': 1, 'totalCount': 126, 'hsmpSn': 30700027, 'insttNm': 'LH부산울산', 'brtcCode': '26', 'brtcNm': '부산광역시', 'signguCode': '710', 'signguNm': '기장군', 'hsmpNm': '정관신도시휴먼시아2단지', 'rnAdres': '부산광역시 기장군 정관읍 정관2로 24', 'pnu': '2671025627107680000', 'competDe': '20100104', 'hshldCo': 1301, 'suplyTyNm': '국민임대', 'styleNm': '59', 'suplyPrvuseAr': 59.88, 'suplyCmnuseAr': 23.0117, 'houseTyNm': '아파트', 'heatMthdDetailNm': '지역가스난방', 'buldStleNm': '혼합식', 'elvtrInstlAtNm': '전체동 설치', 'parkngCo': 1101, 'bassRentGtn': 35924000, 'bassMtRntchrg': 222970, 'bassCnvrsGtnLmt': 26000000}, {'numOfRows': '10000000000', 'pageNo': 1, 'totalCount': 126, 'hsmpSn': 30700026, 'insttNm': 'LH부산울산', 'brtcCode': '26', 'brtcNm': '부산광역시', 'signguCode': '710', 'signguNm': '기장군', 'hsmpNm': '정관신도시휴먼시아1단지', 'rnAdres': '부산광역시 기장군 정관읍 정관4로 23', 'pnu': '2671025628113590000', 'competDe': '20081229', 'hshldCo': 1533, 'suplyTyNm': '국민임대', 'styleNm': '51', 'suplyPrvuseAr': 51.77, 'suplyCmnuseAr': 16.7211, 'houseTyNm': '아파트', 'heatMthdDetailNm': '지역가스난방', 'buldStleNm': '혼합식', 'elvtrInstlAtNm': '전체동 설치', 'parkngCo': 1296, 'bassRentGtn': 25966000, 'bassMtRntchrg': 144800, 'bassCnvrsGtnLmt': 16000000}, {'numOfRows': '10000000000', 'pageNo': 1, 'totalCount': 126, 'hsmpSn': 30700026, 'insttNm': 'LH부산울산', 'brtcCode': '26', 'brtcNm': '부산광역시', 'signguCode': '710', 'signguNm': '기장군', 'hsmpNm': '정관신도시휴먼시아1단지', 'rnAdres': '부산광역시 기장군 정관읍 정관4로 23', 'pnu': '2671025628113590000', 'competDe': '20081229', 'hshldCo': 1533, 'suplyTyNm': '국민임대', 'styleNm': '51', 'suplyPrvuseAr': 51.86, 'suplyCmnuseAr': 16.7502, 'houseTyNm': '아파트', 'heatMthdDetailNm': '지역가스난방', 'buldStleNm': '혼합식', 'elvtrInstlAtNm': '전체동 설치', 'parkngCo': 1296, 'bassRentGtn': 27465000, 'bassMtRntchrg': 156030, 'bassCnvrsGtnLmt': 18000000}, {'numOfRows': '10000000000', 'pageNo': 1, 'totalCount': 126, 'hsmpSn': 30700026, 'insttNm': 'LH부산울산', 'brtcCode': '26', 'brtcNm': '부산광역시', 'signguCode': '710', 'signguNm': '기장군', 'hsmpNm': '정관신도시휴먼시아1단지', 'rnAdres': '부산광역시 기장군 정관읍 정관4로 23', 'pnu': '2671025628113590000', 'competDe': '20081229', 'hshldCo': 1533, 'suplyTyNm': '국민임대', 'styleNm': '59', 'suplyPrvuseAr': 59.57, 'suplyCmnuseAr': 19.2404, 'houseTyNm': '아파트', 'heatMthdDetailNm': '지역가스난방', 'buldStleNm': '혼합식', 'elvtrInstlAtNm': '전체동 설치', 'parkngCo': 1296, 'bassRentGtn': 36205000, 'bassMtRntchrg': 215950, 'bassCnvrsGtnLmt': 25000000}, {'numOfRows': '10000000000', 'pageNo': 1, 'totalCount': 126, 'hsmpSn': 30700026, 'insttNm': 'LH부산울산', 'brtcCode': '26', 'brtcNm': '부산광역시', 'signguCode': '710', 'signguNm': '기장군', 'hsmpNm': '정관신도시휴먼시아1단지', 'rnAdres': '부산광역시 기장군 정관읍 정관4로 23', 'pnu': '2671025628113590000', 'competDe': '20081229', 'hshldCo': 1533, 'suplyTyNm': '국민임대', 'styleNm': '59', 'suplyPrvuseAr': 59.99, 'suplyCmnuseAr': 19.3761, 'houseTyNm': '아파트', 'heatMthdDetailNm': '지역가스난방', 'buldStleNm': '혼합식', 'elvtrInstlAtNm': '전체동 설치', 'parkngCo': 1296, 'bassRentGtn': 36205000, 'bassMtRntchrg': 215950, 'bassCnvrsGtnLmt': 25000000}, {'numOfRows': '10000000000', 'pageNo': 1, 'totalCount': 126, 'hsmpSn': 30700023, 'insttNm': 'LH부산울산', 'brtcCode': '26', 'brtcNm': '부산광역시', 'signguCode': '710', 'signguNm': '기장군', 'hsmpNm': '기장교리 주공아파트', 'rnAdres': '부산광역시 기장군 기장읍 차성로397번길 7', 'pnu': '2671025022101700000', 'competDe': '20031229', 'hshldCo': 875, 'suplyTyNm': '국민임대', 'styleNm': '36', 'suplyPrvuseAr': 36.44, 'suplyCmnuseAr': 16.8333, 'houseTyNm': '아파트', 'heatMthdDetailNm': '개별가스난방', 'buldStleNm': '복도식', 'elvtrInstlAtNm': '전체동 설치', 'parkngCo': 615, 'bassRentGtn': 11492000, 'bassMtRntchrg': 104930, 'bassCnvrsGtnLmt': 8000000}, {'numOfRows': '10000000000', 'pageNo': 1, 'totalCount': 126, 'hsmpSn': 30700023, 'insttNm': 'LH부산울산', 'brtcCode': '26', 'brtcNm': '부산광역시', 'signguCode': '710', 'signguNm': '기장군', 'hsmpNm': '기장교리 주공아파트', 'rnAdres': '부산광역시 기장군 기장읍 차성로397번길 7', 'pnu': '2671025022101700000', 'competDe': '20031229', 'hshldCo': 875, 'suplyTyNm': '국민임대', 'styleNm': '45', 'suplyPrvuseAr': 45.09, 'suplyCmnuseAr': 20.8292, 'houseTyNm': '아파트', 'heatMthdDetailNm': '개별가스난방', 'buldStleNm': '복도식', 'elvtrInstlAtNm': '전체동 설치', 'parkngCo': 615, 'bassRentGtn': 14215000, 'bassMtRntchrg': 141630, 'bassCnvrsGtnLmt': 16000000}, {'numOfRows': '10000000000', 'pageNo': 1, 'totalCount': 126, 'hsmpSn': 30700023, 'insttNm': 'LH부산울산', 'brtcCode': '26', 'brtcNm': '부산광역시', 'signguCode': '710', 'signguNm': '기장군', 'hsmpNm': '기장교리 주공아파트', 'rnAdres': '부산광역시 기장군 기장읍 차성로397번길 7', 'pnu': '2671025022101700000', 'competDe': '20031229', 'hshldCo': 875, 'suplyTyNm': '국민임대', 'styleNm': '45', 'suplyPrvuseAr': 45.32, 'suplyCmnuseAr': 20.9354, 'houseTyNm': '아파트', 'heatMthdDetailNm': '개별가스난방', 'buldStleNm': '복도식', 'elvtrInstlAtNm': '전체동 설치', 'parkngCo': 615, 'bassRentGtn': 14292000, 'bassMtRntchrg': 141630, 'bassCnvrsGtnLmt': 16000000}, {'numOfRows': '10000000000', 'pageNo': 1, 'totalCount': 126, 'hsmpSn': 30699762, 'insttNm': 'LH부산울산', 'brtcCode': '26', 'brtcNm': '부산광역시', 'signguCode': '710', 'signguNm': '기장군', 'hsmpNm': '고촌휴먼시아1단지', 'rnAdres': '부산광역시 기장군 철마면 고촌로44번길 16', 'pnu': '2671033029106150000', 'competDe': '20091002', 'hshldCo': 1084, 'suplyTyNm': '국민임대', 'styleNm': '39', 'suplyPrvuseAr': 39.74, 'suplyCmnuseAr': 19.0363, 'houseTyNm': '아파트', 'heatMthdDetailNm': '개별가스난방', 'buldStleNm': '복도식', 'elvtrInstlAtNm': '전체동 설치', 'parkngCo': 837, 'bassRentGtn': 16723000, 'bassMtRntchrg': 115180, 'bassCnvrsGtnLmt': 11000000}, {'numOfRows': '10000000000', 'pageNo': 1, 'totalCount': 126, 'hsmpSn': 30699762, 'insttNm': 'LH부산울산', 'brtcCode': '26', 'brtcNm': '부산광역시', 'signguCode': '710', 'signguNm': '기장군', 'hsmpNm': '고촌휴먼시아1단지', 'rnAdres': '부산광역시 기장군 철마면 고촌로44번길 16', 'pnu': '2671033029106150000', 'competDe': '20091002', 'hshldCo': 1084, 'suplyTyNm': '국민임대', 'styleNm': '39', 'suplyPrvuseAr': 39.96, 'suplyCmnuseAr': 19.1417, 'houseTyNm': '아파트', 'heatMthdDetailNm': '개별가스난방', 'buldStleNm': '복도식', 'elvtrInstlAtNm': '전체동 설치', 'parkngCo': 837, 'bassRentGtn': 16723000, 'bassMtRntchrg': 115180, 'bassCnvrsGtnLmt': 11000000}, {'numOfRows': '10000000000', 'pageNo': 1, 'totalCount': 126, 'hsmpSn': 30699762, 'insttNm': 'LH부산울산', 'brtcCode': '26', 'brtcNm': '부산광역시', 'signguCode': '710', 'signguNm': '기장군', 'hsmpNm': '고촌휴먼시아1단지', 'rnAdres': '부산광역시 기장군 철마면 고촌로44번길 16', 'pnu': '2671033029106150000', 'competDe': '20091002', 'hshldCo': 1084, 'suplyTyNm': '국민임대', 'styleNm': '46', 'suplyPrvuseAr': 46.56, 'suplyCmnuseAr': 22.3032, 'houseTyNm': '아파트', 'heatMthdDetailNm': '개별가스난방', 'buldStleNm': '복도식', 'elvtrInstlAtNm': '전체동 설치', 'parkngCo': 837, 'bassRentGtn': 21058000, 'bassMtRntchrg': 151110, 'bassCnvrsGtnLmt': 18000000}, {'numOfRows': '10000000000', 'pageNo': 1, 'totalCount': 126, 'hsmpSn': 30699762, 'insttNm': 'LH부산울산', 'brtcCode': '26', 'brtcNm': '부산광역시', 'signguCode': '710', 'signguNm': '기장군', 'hsmpNm': '고촌휴먼시아1단지', 'rnAdres': '부산광역시 기장군 철마면 고촌로44번길 16', 'pnu': '2671033029106150000', 'competDe': '20091002', 'hshldCo': 1084, 'suplyTyNm': '국민임대', 'styleNm': '46', 'suplyPrvuseAr': 46.77, 'suplyCmnuseAr': 22.4038, 'houseTyNm': '아파트', 'heatMthdDetailNm': '개별가스난방', 'buldStleNm': '복도식', 'elvtrInstlAtNm': '전체동 설치', 'parkngCo': 837, 'bassRentGtn': 21058000, 'bassMtRntchrg': 151110, 'bassCnvrsGtnLmt': 18000000}, {'numOfRows': '10000000000', 'pageNo': 1, 'totalCount': 126, 'hsmpSn': 30699632, 'insttNm': 'LH부산울산', 'brtcCode': '26', 'brtcNm': '부산광역시', 'signguCode': '710', 'signguNm': '기장군', 'hsmpNm': '내리휴먼시아1단지', 'rnAdres': '부산광역시 기장군 기장읍 소정안길 68', 'pnu': '2671025034107680000', 'competDe': '20071015', 'hshldCo': 1002, 'suplyTyNm': '국민임대', 'styleNm': '39', 'suplyPrvuseAr': 39.72, 'suplyCmnuseAr': 19.0149, 'houseTyNm': '아파트', 'heatMthdDetailNm': '개별가스난방', 'buldStleNm': '복도식', 'elvtrInstlAtNm': '전체동 설치', 'parkngCo': 775, 'bassRentGtn': 15859000, 'bassMtRntchrg': 110530, 'bassCnvrsGtnLmt': 10000000}, {'numOfRows': '10000000000', 'pageNo': 1, 'totalCount': 126, 'hsmpSn': 30699632, 'insttNm': 'LH부산울산', 'brtcCode': '26', 'brtcNm': '부산광역시', 'signguCode': '710', 'signguNm': '기장군', 'hsmpNm': '내리휴먼시아1단지', 'rnAdres': '부산광역시 기장군 기장읍 소정안길 68', 'pnu': '2671025034107680000', 'competDe': '20071015', 'hshldCo': 1002, 'suplyTyNm': '국민임대', 'styleNm': '39', 'suplyPrvuseAr': 39.77, 'suplyCmnuseAr': 19.0388, 'houseTyNm': '아파트', 'heatMthdDetailNm': '개별가스난방', 'buldStleNm': '복도식', 'elvtrInstlAtNm': '전체동 설치', 'parkngCo': 775, 'bassRentGtn': 15859000, 'bassMtRntchrg': 110530, 'bassCnvrsGtnLmt': 10000000}, {'numOfRows': '10000000000', 'pageNo': 1, 'totalCount': 126, 'hsmpSn': 30699632, 'insttNm': 'LH부산울산', 'brtcCode': '26', 'brtcNm': '부산광역시', 'signguCode': '710', 'signguNm': '기장군', 'hsmpNm': '내리휴먼시아1단지', 'rnAdres': '부산광역시 기장군 기장읍 소정안길 68', 'pnu': '2671025034107680000', 'competDe': '20071015', 'hshldCo': 1002, 'suplyTyNm': '국민임대', 'styleNm': '46', 'suplyPrvuseAr': 46.9, 'suplyCmnuseAr': 22.4521, 'houseTyNm': '아파트', 'heatMthdDetailNm': '개별가스난방', 'buldStleNm': '복도식', 'elvtrInstlAtNm': '전체동 설치', 'parkngCo': 775, 'bassRentGtn': 19343000, 'bassMtRntchrg': 144180, 'bassCnvrsGtnLmt': 16000000}, {'numOfRows': '10000000000', 'pageNo': 1, 'totalCount': 126, 'hsmpSn': 30699632, 'insttNm': 'LH부산울산', 'brtcCode': '26', 'brtcNm': '부산광역시', 'signguCode': '710', 'signguNm': '기장군', 'hsmpNm': '내리휴먼시아1단지', 'rnAdres': '부산광역시 기장군 기장읍 소정안길 68', 'pnu': '2671025034107680000', 'competDe': '20071015', 'hshldCo': 1002, 'suplyTyNm': '국민임대', 'styleNm': '51', 'suplyPrvuseAr': 51.93, 'suplyCmnuseAr': 24.8601, 'houseTyNm': '아파트', 'heatMthdDetailNm': '개별가스난방', 'buldStleNm': '복도식', 'elvtrInstlAtNm': '전체동 설치', 'parkngCo': 775, 'bassRentGtn': 25233000, 'bassMtRntchrg': 179040, 'bassCnvrsGtnLmt': 21000000}, {'numOfRows': '10000000000', 'pageNo': 1, 'totalCount': 126, 'hsmpSn': 31200310, 'insttNm': '부산도시공사', 'brtcCode': '26', 'brtcNm': '부산광역시', 'signguCode': '710', 'signguNm': '기장군', 'hsmpNm': '정관풀리페', 'rnAdres': '부산광역시 기장군 정관읍 정관5로 144', 'pnu': '2671025628112750000', 'competDe': '20160516', 'hshldCo': 830, 'suplyTyNm': '5년임대', 'styleNm': '59A', 'suplyPrvuseAr': 59.8986, 'suplyCmnuseAr': 23.1653, 'houseTyNm': '아파트', 'heatMthdDetailNm': '지역난방', 'buldStleNm': '계단식', 'elvtrInstlAtNm': '전체동 설치', 'parkngCo': 833, 'bassRentGtn': 34070000, 'bassMtRntchrg': 388500, 'bassCnvrsGtnLmt': 34070000}, {'numOfRows': '10000000000', 'pageNo': 1, 'totalCount': 126, 'hsmpSn': 31200310, 'insttNm': '부산도시공사', 'brtcCode': '26', 'brtcNm': '부산광역시', 'signguCode': '710', 'signguNm': '기장군', 'hsmpNm': '정관풀리페', 'rnAdres': '부산광역시 기장군 정관읍 정관5로 144', 'pnu': '2671025628112750000', 'competDe': '20160516', 'hshldCo': 830, 'suplyTyNm': '5년임대', 'styleNm': '59B', 'suplyPrvuseAr': 59.9527, 'suplyCmnuseAr': 23.5991, 'houseTyNm': '아파트', 'heatMthdDetailNm': '지역난방', 'buldStleNm': '계단식', 'elvtrInstlAtNm': '전체동 설치', 'parkngCo': 833, 'bassRentGtn': 33400000, 'bassMtRntchrg': 385200, 'bassCnvrsGtnLmt': 33410000}, {'numOfRows': '10000000000', 'pageNo': 1, 'totalCount': 126, 'hsmpSn': 31200310, 'insttNm': '부산도시공사', 'brtcCode': '26', 'brtcNm': '부산광역시', 'signguCode': '710', 'signguNm': '기장군', 'hsmpNm': '정관풀리페', 'rnAdres': '부산광역시 기장군 정관읍 정관5로 144', 'pnu': '2671025628112750000', 'competDe': '20160516', 'hshldCo': 830, 'suplyTyNm': '5년임대', 'styleNm': '59C', 'suplyPrvuseAr': 59.9983, 'suplyCmnuseAr': 23.369, 'houseTyNm': '아파트', 'heatMthdDetailNm': '지역난방', 'buldStleNm': '계단식', 'elvtrInstlAtNm': '전체동 설치', 'parkngCo': 833, 'bassRentGtn': 33730000, 'bassMtRntchrg': 387100, 'bassCnvrsGtnLmt': 33370000}, {'numOfRows': '10000000000', 'pageNo': 1, 'totalCount': 126, 'hsmpSn': 31199980, 'insttNm': '부산도시공사', 'brtcCode': '26', 'brtcNm': '부산광역시', 'signguCode': '710', 'signguNm': '기장군', 'hsmpNm': '골든빌', 'rnAdres': '부산광역시 기장군 기장읍 차성서로101번길 26-1', 'pnu': '2671025026108580000', 'competDe': {}, 'hshldCo': 10, 'suplyTyNm': '매입임대', 'styleNm': {}, 'suplyPrvuseAr': 28.775, 'suplyCmnuseAr': 10.26, 'houseTyNm': '다세대주택', 'heatMthdDetailNm': {}, 'buldStleNm': {}, 'elvtrInstlAtNm': {}, 'parkngCo': 0, 'bassRentGtn': 2480000, 'bassMtRntchrg': 90100, 'bassCnvrsGtnLmt': 13470000}, {'numOfRows': '10000000000', 'pageNo': 1, 'totalCount': 126, 'hsmpSn': 31199980, 'insttNm': '부산도시공사', 'brtcCode': '26', 'brtcNm': '부산광역시', 'signguCode': '710', 'signguNm': '기장군', 'hsmpNm': '골든빌', 'rnAdres': '부산광역시 기장군 기장읍 차성서로101번길 26-1', 'pnu': '2671025026108580000', 'competDe': {}, 'hshldCo': 10, 'suplyTyNm': '매입임대', 'styleNm': {}, 'suplyPrvuseAr': 28.775, 'suplyCmnuseAr': 10.27, 'houseTyNm': '다세대주택', 'heatMthdDetailNm': {}, 'buldStleNm': {}, 'elvtrInstlAtNm': {}, 'parkngCo': 0, 'bassRentGtn': 2480000, 'bassMtRntchrg': 86300, 'bassCnvrsGtnLmt': 12900000}, {'numOfRows': '10000000000', 'pageNo': 1, 'totalCount': 126, 'hsmpSn': 31199980, 'insttNm': '부산도시공사', 'brtcCode': '26', 'brtcNm': '부산광역시', 'signguCode': '710', 'signguNm': '기장군', 'hsmpNm': '골든빌', 'rnAdres': '부산광역시 기장군 기장읍 차성서로101번길 26-1', 'pnu': '2671025026108580000', 'competDe': {}, 'hshldCo': 10, 'suplyTyNm': '매입임대', 'styleNm': {}, 'suplyPrvuseAr': 34.968, 'suplyCmnuseAr': 11.94, 'houseTyNm': '다세대주택', 'heatMthdDetailNm': {}, 'buldStleNm': {}, 'elvtrInstlAtNm': {}, 'parkngCo': 0, 'bassRentGtn': 3014000, 'bassMtRntchrg': 107500, 'bassCnvrsGtnLmt': 16050000}, {'numOfRows': '10000000000', 'pageNo': 1, 'totalCount': 126, 'hsmpSn': 31199980, 'insttNm': '부산도시공사', 'brtcCode': '26', 'brtcNm': '부산광역시', 'signguCode': '710', 'signguNm': '기장군', 'hsmpNm': '골든빌', 'rnAdres': '부산광역시 기장군 기장읍 차성서로101번길 26-1', 'pnu': '2671025026108580000', 'competDe': {}, 'hshldCo': 10, 'suplyTyNm': '매입임대', 'styleNm': {}, 'suplyPrvuseAr': 36.669, 'suplyCmnuseAr': 11.853, 'houseTyNm': '다세대주택', 'heatMthdDetailNm': {}, 'buldStleNm': {}, 'elvtrInstlAtNm': {}, 'parkngCo': 0, 'bassRentGtn': 3160000, 'bassMtRntchrg': 109900, 'bassCnvrsGtnLmt': 16460000}], 'msg': 'OK'}\n"
          ]
        }
      ]
    },
    {
      "cell_type": "code",
      "source": [
        "##json에 hsmpList에 있는 dictionary 형태의 데이터를 배열로 만듦\n",
        "hsmpList = [json_object['hsmpList']]"
      ],
      "metadata": {
        "id": "myRItw6p3rLE"
      },
      "execution_count": 12,
      "outputs": []
    },
    {
      "cell_type": "code",
      "source": [
        "##df_house 변수에 DataFrame으로 생성된 객체를 넣음\n",
        "df_house = pd.DataFrame(json_object['hsmpList'])"
      ],
      "metadata": {
        "id": "VsLNBGwC3tzq"
      },
      "execution_count": 9,
      "outputs": []
    },
    {
      "cell_type": "code",
      "source": [
        "df_house.head()"
      ],
      "metadata": {
        "colab": {
          "base_uri": "https://localhost:8080/",
          "height": 617
        },
        "id": "gE7zIGFO3znz",
        "outputId": "633f7d1a-f502-448b-8a2d-2d606b3760a8"
      },
      "execution_count": 10,
      "outputs": [
        {
          "output_type": "execute_result",
          "data": {
            "text/html": [
              "\n",
              "  <div id=\"df-6e5a40e0-1c89-4b0c-8494-01a029345918\">\n",
              "    <div class=\"colab-df-container\">\n",
              "      <div>\n",
              "<style scoped>\n",
              "    .dataframe tbody tr th:only-of-type {\n",
              "        vertical-align: middle;\n",
              "    }\n",
              "\n",
              "    .dataframe tbody tr th {\n",
              "        vertical-align: top;\n",
              "    }\n",
              "\n",
              "    .dataframe thead th {\n",
              "        text-align: right;\n",
              "    }\n",
              "</style>\n",
              "<table border=\"1\" class=\"dataframe\">\n",
              "  <thead>\n",
              "    <tr style=\"text-align: right;\">\n",
              "      <th></th>\n",
              "      <th>numOfRows</th>\n",
              "      <th>pageNo</th>\n",
              "      <th>totalCount</th>\n",
              "      <th>hsmpSn</th>\n",
              "      <th>insttNm</th>\n",
              "      <th>brtcCode</th>\n",
              "      <th>brtcNm</th>\n",
              "      <th>signguCode</th>\n",
              "      <th>signguNm</th>\n",
              "      <th>hsmpNm</th>\n",
              "      <th>rnAdres</th>\n",
              "      <th>pnu</th>\n",
              "      <th>competDe</th>\n",
              "      <th>hshldCo</th>\n",
              "      <th>suplyTyNm</th>\n",
              "      <th>styleNm</th>\n",
              "      <th>suplyPrvuseAr</th>\n",
              "      <th>suplyCmnuseAr</th>\n",
              "      <th>houseTyNm</th>\n",
              "      <th>heatMthdDetailNm</th>\n",
              "      <th>buldStleNm</th>\n",
              "      <th>elvtrInstlAtNm</th>\n",
              "      <th>parkngCo</th>\n",
              "      <th>bassRentGtn</th>\n",
              "      <th>bassMtRntchrg</th>\n",
              "      <th>bassCnvrsGtnLmt</th>\n",
              "    </tr>\n",
              "  </thead>\n",
              "  <tbody>\n",
              "    <tr>\n",
              "      <th>0</th>\n",
              "      <td>10000000000</td>\n",
              "      <td>1</td>\n",
              "      <td>126</td>\n",
              "      <td>31216733</td>\n",
              "      <td>LH부산울산</td>\n",
              "      <td>26</td>\n",
              "      <td>부산광역시</td>\n",
              "      <td>710</td>\n",
              "      <td>기장군</td>\n",
              "      <td>청년신혼부부매입임대(부산기장군)</td>\n",
              "      <td>부산광역시 기장군 정관읍 정관로 545</td>\n",
              "      <td>2671025628113360000</td>\n",
              "      <td>{}</td>\n",
              "      <td>1</td>\n",
              "      <td>매입임대</td>\n",
              "      <td>59</td>\n",
              "      <td>59.8881</td>\n",
              "      <td>20.6828</td>\n",
              "      <td>아파트</td>\n",
              "      <td>{}</td>\n",
              "      <td>{}</td>\n",
              "      <td>{}</td>\n",
              "      <td>0</td>\n",
              "      <td>134500000</td>\n",
              "      <td>151770</td>\n",
              "      <td>148500000</td>\n",
              "    </tr>\n",
              "    <tr>\n",
              "      <th>1</th>\n",
              "      <td>10000000000</td>\n",
              "      <td>1</td>\n",
              "      <td>126</td>\n",
              "      <td>31216715</td>\n",
              "      <td>LH부산울산</td>\n",
              "      <td>26</td>\n",
              "      <td>부산광역시</td>\n",
              "      <td>710</td>\n",
              "      <td>기장군</td>\n",
              "      <td>청년신혼부부매입임대(부산기장군)</td>\n",
              "      <td>부산광역시 기장군 정관읍 정관로 545</td>\n",
              "      <td>2671025628113360000</td>\n",
              "      <td>{}</td>\n",
              "      <td>1</td>\n",
              "      <td>매입임대</td>\n",
              "      <td>59</td>\n",
              "      <td>59.8881</td>\n",
              "      <td>20.6828</td>\n",
              "      <td>아파트</td>\n",
              "      <td>{}</td>\n",
              "      <td>{}</td>\n",
              "      <td>{}</td>\n",
              "      <td>0</td>\n",
              "      <td>134500000</td>\n",
              "      <td>151770</td>\n",
              "      <td>0</td>\n",
              "    </tr>\n",
              "    <tr>\n",
              "      <th>2</th>\n",
              "      <td>10000000000</td>\n",
              "      <td>1</td>\n",
              "      <td>126</td>\n",
              "      <td>31216708</td>\n",
              "      <td>LH부산울산</td>\n",
              "      <td>26</td>\n",
              "      <td>부산광역시</td>\n",
              "      <td>710</td>\n",
              "      <td>기장군</td>\n",
              "      <td>청년신혼부부매입임대(부산기장군)</td>\n",
              "      <td>부산광역시 기장군 정관읍 정관5로 12</td>\n",
              "      <td>2671025622107230000</td>\n",
              "      <td>{}</td>\n",
              "      <td>1</td>\n",
              "      <td>매입임대</td>\n",
              "      <td>59</td>\n",
              "      <td>59.9970</td>\n",
              "      <td>21.4885</td>\n",
              "      <td>아파트</td>\n",
              "      <td>{}</td>\n",
              "      <td>{}</td>\n",
              "      <td>{}</td>\n",
              "      <td>0</td>\n",
              "      <td>122400000</td>\n",
              "      <td>143350</td>\n",
              "      <td>0</td>\n",
              "    </tr>\n",
              "    <tr>\n",
              "      <th>3</th>\n",
              "      <td>10000000000</td>\n",
              "      <td>1</td>\n",
              "      <td>126</td>\n",
              "      <td>31216707</td>\n",
              "      <td>LH부산울산</td>\n",
              "      <td>26</td>\n",
              "      <td>부산광역시</td>\n",
              "      <td>710</td>\n",
              "      <td>기장군</td>\n",
              "      <td>청년신혼부부매입임대(부산기장군)</td>\n",
              "      <td>부산광역시 기장군 정관읍 정관5로 12</td>\n",
              "      <td>2671025622107230000</td>\n",
              "      <td>{}</td>\n",
              "      <td>1</td>\n",
              "      <td>매입임대</td>\n",
              "      <td>59</td>\n",
              "      <td>59.9970</td>\n",
              "      <td>21.4885</td>\n",
              "      <td>아파트</td>\n",
              "      <td>{}</td>\n",
              "      <td>{}</td>\n",
              "      <td>{}</td>\n",
              "      <td>0</td>\n",
              "      <td>122400000</td>\n",
              "      <td>143350</td>\n",
              "      <td>135400000</td>\n",
              "    </tr>\n",
              "    <tr>\n",
              "      <th>4</th>\n",
              "      <td>10000000000</td>\n",
              "      <td>1</td>\n",
              "      <td>126</td>\n",
              "      <td>31216700</td>\n",
              "      <td>LH부산울산</td>\n",
              "      <td>26</td>\n",
              "      <td>부산광역시</td>\n",
              "      <td>710</td>\n",
              "      <td>기장군</td>\n",
              "      <td>청년신혼부부매입임대(부산기장군)</td>\n",
              "      <td>부산광역시 기장군 정관읍 정관5로 12</td>\n",
              "      <td>2671025622107230000</td>\n",
              "      <td>{}</td>\n",
              "      <td>2</td>\n",
              "      <td>매입임대</td>\n",
              "      <td>59</td>\n",
              "      <td>59.9970</td>\n",
              "      <td>20.3843</td>\n",
              "      <td>아파트</td>\n",
              "      <td>{}</td>\n",
              "      <td>{}</td>\n",
              "      <td>{}</td>\n",
              "      <td>0</td>\n",
              "      <td>122400000</td>\n",
              "      <td>143350</td>\n",
              "      <td>135400000</td>\n",
              "    </tr>\n",
              "  </tbody>\n",
              "</table>\n",
              "</div>\n",
              "      <button class=\"colab-df-convert\" onclick=\"convertToInteractive('df-6e5a40e0-1c89-4b0c-8494-01a029345918')\"\n",
              "              title=\"Convert this dataframe to an interactive table.\"\n",
              "              style=\"display:none;\">\n",
              "        \n",
              "  <svg xmlns=\"http://www.w3.org/2000/svg\" height=\"24px\"viewBox=\"0 0 24 24\"\n",
              "       width=\"24px\">\n",
              "    <path d=\"M0 0h24v24H0V0z\" fill=\"none\"/>\n",
              "    <path d=\"M18.56 5.44l.94 2.06.94-2.06 2.06-.94-2.06-.94-.94-2.06-.94 2.06-2.06.94zm-11 1L8.5 8.5l.94-2.06 2.06-.94-2.06-.94L8.5 2.5l-.94 2.06-2.06.94zm10 10l.94 2.06.94-2.06 2.06-.94-2.06-.94-.94-2.06-.94 2.06-2.06.94z\"/><path d=\"M17.41 7.96l-1.37-1.37c-.4-.4-.92-.59-1.43-.59-.52 0-1.04.2-1.43.59L10.3 9.45l-7.72 7.72c-.78.78-.78 2.05 0 2.83L4 21.41c.39.39.9.59 1.41.59.51 0 1.02-.2 1.41-.59l7.78-7.78 2.81-2.81c.8-.78.8-2.07 0-2.86zM5.41 20L4 18.59l7.72-7.72 1.47 1.35L5.41 20z\"/>\n",
              "  </svg>\n",
              "      </button>\n",
              "      \n",
              "  <style>\n",
              "    .colab-df-container {\n",
              "      display:flex;\n",
              "      flex-wrap:wrap;\n",
              "      gap: 12px;\n",
              "    }\n",
              "\n",
              "    .colab-df-convert {\n",
              "      background-color: #E8F0FE;\n",
              "      border: none;\n",
              "      border-radius: 50%;\n",
              "      cursor: pointer;\n",
              "      display: none;\n",
              "      fill: #1967D2;\n",
              "      height: 32px;\n",
              "      padding: 0 0 0 0;\n",
              "      width: 32px;\n",
              "    }\n",
              "\n",
              "    .colab-df-convert:hover {\n",
              "      background-color: #E2EBFA;\n",
              "      box-shadow: 0px 1px 2px rgba(60, 64, 67, 0.3), 0px 1px 3px 1px rgba(60, 64, 67, 0.15);\n",
              "      fill: #174EA6;\n",
              "    }\n",
              "\n",
              "    [theme=dark] .colab-df-convert {\n",
              "      background-color: #3B4455;\n",
              "      fill: #D2E3FC;\n",
              "    }\n",
              "\n",
              "    [theme=dark] .colab-df-convert:hover {\n",
              "      background-color: #434B5C;\n",
              "      box-shadow: 0px 1px 3px 1px rgba(0, 0, 0, 0.15);\n",
              "      filter: drop-shadow(0px 1px 2px rgba(0, 0, 0, 0.3));\n",
              "      fill: #FFFFFF;\n",
              "    }\n",
              "  </style>\n",
              "\n",
              "      <script>\n",
              "        const buttonEl =\n",
              "          document.querySelector('#df-6e5a40e0-1c89-4b0c-8494-01a029345918 button.colab-df-convert');\n",
              "        buttonEl.style.display =\n",
              "          google.colab.kernel.accessAllowed ? 'block' : 'none';\n",
              "\n",
              "        async function convertToInteractive(key) {\n",
              "          const element = document.querySelector('#df-6e5a40e0-1c89-4b0c-8494-01a029345918');\n",
              "          const dataTable =\n",
              "            await google.colab.kernel.invokeFunction('convertToInteractive',\n",
              "                                                     [key], {});\n",
              "          if (!dataTable) return;\n",
              "\n",
              "          const docLinkHtml = 'Like what you see? Visit the ' +\n",
              "            '<a target=\"_blank\" href=https://colab.research.google.com/notebooks/data_table.ipynb>data table notebook</a>'\n",
              "            + ' to learn more about interactive tables.';\n",
              "          element.innerHTML = '';\n",
              "          dataTable['output_type'] = 'display_data';\n",
              "          await google.colab.output.renderOutput(dataTable, element);\n",
              "          const docLink = document.createElement('div');\n",
              "          docLink.innerHTML = docLinkHtml;\n",
              "          element.appendChild(docLink);\n",
              "        }\n",
              "      </script>\n",
              "    </div>\n",
              "  </div>\n",
              "  "
            ],
            "text/plain": [
              "     numOfRows  pageNo  totalCount  ...  bassRentGtn bassMtRntchrg bassCnvrsGtnLmt\n",
              "0  10000000000       1         126  ...    134500000        151770       148500000\n",
              "1  10000000000       1         126  ...    134500000        151770               0\n",
              "2  10000000000       1         126  ...    122400000        143350               0\n",
              "3  10000000000       1         126  ...    122400000        143350       135400000\n",
              "4  10000000000       1         126  ...    122400000        143350       135400000\n",
              "\n",
              "[5 rows x 26 columns]"
            ]
          },
          "metadata": {},
          "execution_count": 10
        }
      ]
    },
    {
      "cell_type": "code",
      "source": [
        "##csv형태로 저장\n",
        "df_house.to_csv('house_기장군.csv',encoding=' utf-8-sig')"
      ],
      "metadata": {
        "id": "9b8Ok8hA3_Pc"
      },
      "execution_count": 11,
      "outputs": []
    }
  ]
}