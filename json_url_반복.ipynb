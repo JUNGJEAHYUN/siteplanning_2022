{
  "nbformat": 4,
  "nbformat_minor": 0,
  "metadata": {
    "colab": {
      "name": "json_url 반복",
      "provenance": [],
      "collapsed_sections": [],
      "authorship_tag": "ABX9TyPxZO91SgB8srbp16FLno2h",
      "include_colab_link": true
    },
    "kernelspec": {
      "name": "python3",
      "display_name": "Python 3"
    },
    "language_info": {
      "name": "python"
    }
  },
  "cells": [
    {
      "cell_type": "markdown",
      "metadata": {
        "id": "view-in-github",
        "colab_type": "text"
      },
      "source": [
        "<a href=\"https://colab.research.google.com/github/JUNGJEAHYUN/siteplanning_2022/blob/master/json_url_%EB%B0%98%EB%B3%B5.ipynb\" target=\"_parent\"><img src=\"https://colab.research.google.com/assets/colab-badge.svg\" alt=\"Open In Colab\"/></a>"
      ]
    },
    {
      "cell_type": "code",
      "execution_count": null,
      "metadata": {
        "id": "HE1PFnOS2WhP"
      },
      "outputs": [],
      "source": [
        "from urllib.parse import urlencode, unquote, quote\n",
        "import requests\n",
        "import json\n",
        "import urllib.request\n",
        "import pandas as pd\n",
        "from pandas.io.json import json_normalize"
      ]
    },
    {
      "cell_type": "code",
      "source": [
        "# 데이터 프레임으로 만든 뒤 추가하기\n",
        "\n",
        "i=0\n",
        "while True:\n",
        "  try : \n",
        "    i=i+1\n",
        "    url = \"입력url\"\n",
        "    queryString = \"?\" + urlencode(\n",
        "        {\n",
        "          \"ServiceKey\": unquote(\"서비스키\"),\n",
        "          \"pageNo\": i,\n",
        "          \"numOfRows\": \"100\",\n",
        "          \"apiType\": \"JSON\",\n",
        "          \"q3\": \"GHG\",\n",
        "          \"q6\": \"부산\"\n",
        "        }\n",
        "        )\n",
        "    queryURL = url + queryString\n",
        "    response = urllib.request.urlopen(queryURL)\n",
        "    json_str = response.read().decode(\"utf-8\")\n",
        "    json_object = json.loads(json_str)\n",
        "    \n",
        "    List = json_object['opentable']['field']\n",
        "    if i==1 : \n",
        "      df = pd.DataFrame(List)\n",
        "    else : \n",
        "      df_to_insert = pd.DataFrame(data=List)\n",
        "      df = df.append(df_to_insert, ignore_index=True)\n",
        "  except : \n",
        "    break"
      ],
      "metadata": {
        "id": "MHrncTPtIoWl"
      },
      "execution_count": null,
      "outputs": []
    },
    {
      "cell_type": "code",
      "source": [
        "# 리스트로 만든 뒤 데이터프레임으로 만들기(시간이 좀 더 빠름)\n",
        "\n",
        "data_list =[]\n",
        "\n",
        "for i in range(1,1000):\n",
        "\n",
        "  url = \"입력 URL\"\n",
        "  queryString = \"?\" + urlencode(\n",
        "  {\n",
        "    \"ServiceKey\": unquote(\"내 서비스키\"),\n",
        "    \"pageNo\": i,\n",
        "    \"numOfRows\": \"100\",\n",
        "    \"apiType\": \"JSON\",\n",
        "    \"q6\": unquote(\"부산\")\n",
        "  }\n",
        "  )\n",
        "\n",
        "  queryURL = url + queryString\n",
        "\n",
        "  response = urllib.request.urlopen(queryURL)\n",
        "\n",
        "  json_str = response.read().decode(\"utf-8\")\n",
        "\n",
        "  json_object = json.loads(json_str)\n",
        "  try:\n",
        "    k = json_object['opentable']['field']\n",
        "    for j in k:\n",
        "      data_list.append(j)\n",
        "\n",
        "  except:\n",
        "    break\n",
        "\n",
        "  data = pd.DataFrame(data_list)\n",
        "\n",
        "print(data)"
      ],
      "metadata": {
        "id": "X00EYh5-_CrL"
      },
      "execution_count": null,
      "outputs": []
    },
    {
      "cell_type": "code",
      "source": [
        "##csv형태로 저장\n",
        "df.to_csv('final.csv',encoding=' utf-8-sig')"
      ],
      "metadata": {
        "id": "Dg0Z3ZMM9Rih"
      },
      "execution_count": null,
      "outputs": []
    }
  ]
}