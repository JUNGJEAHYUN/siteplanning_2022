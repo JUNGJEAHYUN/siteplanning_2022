{
  "nbformat": 4,
  "nbformat_minor": 0,
  "metadata": {
    "colab": {
      "name": "유튜브 크롤링.ipynb",
      "provenance": [],
      "collapsed_sections": [],
      "authorship_tag": "ABX9TyM6R4pyn0uFT1yeGOS94Otu",
      "include_colab_link": true
    },
    "kernelspec": {
      "name": "python3",
      "display_name": "Python 3"
    },
    "language_info": {
      "name": "python"
    }
  },
  "cells": [
    {
      "cell_type": "markdown",
      "metadata": {
        "id": "view-in-github",
        "colab_type": "text"
      },
      "source": [
        "<a href=\"https://colab.research.google.com/github/JUNGJEAHYUN/siteplanning_2022/blob/master/%EC%9C%A0%ED%8A%9C%EB%B8%8C_%ED%81%AC%EB%A1%A4%EB%A7%81.ipynb\" target=\"_parent\"><img src=\"https://colab.research.google.com/assets/colab-badge.svg\" alt=\"Open In Colab\"/></a>"
      ]
    },
    {
      "cell_type": "code",
      "source": [
        "!pip install selenium\n",
        "!apt-get update\n",
        "!apt install chromium-chromedriver\n",
        "!cp /usr/lib/chromium-browser/chromedriver /usr/bin"
      ],
      "metadata": {
        "id": "F2Xh1BYg_8vY"
      },
      "execution_count": null,
      "outputs": []
    },
    {
      "cell_type": "code",
      "execution_count": null,
      "metadata": {
        "id": "J8EzSuKa_kL6"
      },
      "outputs": [],
      "source": [
        "from selenium import webdriver as wb\n",
        "from selenium.webdriver.common.keys import Keys\n",
        "from bs4 import BeautifulSoup as bs\n",
        "import pandas as pd\n",
        "import time"
      ]
    },
    {
      "cell_type": "code",
      "source": [
        "options = wb.ChromeOptions()\n",
        "options.add_argument('--headless')        # Head-less 설정\n",
        "options.add_argument('--no-sandbox')\n",
        "options.add_argument('--disable-dev-shm-usage')\n",
        "driver = wb.Chrome('chromedriver', options=options)"
      ],
      "metadata": {
        "id": "GXDEA2dYBH8t"
      },
      "execution_count": null,
      "outputs": []
    },
    {
      "cell_type": "code",
      "source": [
        "url = ('https://www.youtube.com/c/semas2014/videos')\n",
        "driver.get(url)"
      ],
      "metadata": {
        "id": "ZEq63EUB_ukx"
      },
      "execution_count": null,
      "outputs": []
    },
    {
      "cell_type": "code",
      "source": [
        "body = driver.find_element_by_tag_name('body')\n",
        "body.send_keys(Keys.PAGE_DOWN)"
      ],
      "metadata": {
        "id": "KmhxKU5VAv3f"
      },
      "execution_count": null,
      "outputs": []
    },
    {
      "cell_type": "code",
      "source": [
        "for i in range(1,51):\n",
        "    body.send_keys(Keys.PAGE_DOWN)\n",
        "    time.sleep(0.5)"
      ],
      "metadata": {
        "id": "dB_rEpd9BfgZ"
      },
      "execution_count": null,
      "outputs": []
    },
    {
      "cell_type": "code",
      "source": [
        "soup = bs(driver.page_source, 'lxml')"
      ],
      "metadata": {
        "id": "DHhfnP6-B5Ah"
      },
      "execution_count": null,
      "outputs": []
    },
    {
      "cell_type": "code",
      "source": [
        "title =soup.select('a#video-title')\n",
        "# 영상 제목만 전체 조회\n",
        "for i in title:\n",
        "    print(i.text.strip())"
      ],
      "metadata": {
        "id": "Nw_CQ0dCYbw4"
      },
      "execution_count": null,
      "outputs": []
    },
    {
      "cell_type": "code",
      "source": [
        "soup.select('span.sstyle-scope ytd-grid-video-renderer')"
      ],
      "metadata": {
        "colab": {
          "base_uri": "https://localhost:8080/"
        },
        "id": "4kQI6xjbBmRo",
        "outputId": "6ce844e0-2378-4437-8920-7e1a421c9f25"
      },
      "execution_count": null,
      "outputs": [
        {
          "output_type": "execute_result",
          "data": {
            "text/plain": [
              "[]"
            ]
          },
          "metadata": {},
          "execution_count": 37
        }
      ]
    },
    {
      "cell_type": "code",
      "source": [
        "soup.select('div#metadata-line > span:nth-child(1)')"
      ],
      "metadata": {
        "id": "W6XMBdeAYg6S"
      },
      "execution_count": null,
      "outputs": []
    },
    {
      "cell_type": "code",
      "source": [
        "title_list = []\n",
        "view_list = []\n",
        "\n",
        "for i in range(len(title)):\n",
        "    title_list.append(title[i].text.strip())\n",
        "    view_list.append(view[i].text.strip())\n",
        "    \n",
        "print(title_list)\n",
        "print(view_list)"
      ],
      "metadata": {
        "id": "bPprzFRdCGIR"
      },
      "execution_count": null,
      "outputs": []
    },
    {
      "cell_type": "code",
      "source": [
        "info = {'제목':title_list, '영상길이':time_list}\n",
        "youtube=pd.DataFrame(info)"
      ],
      "metadata": {
        "id": "Wlq6X8g3W0ht"
      },
      "execution_count": null,
      "outputs": []
    },
    {
      "cell_type": "code",
      "source": [
        "youtube.to_csv('info.csv',encoding='utf-8-sig')\n",
        "# 왼쪽 파일 새로고침을 누르면 저장된 파일이 나옴"
      ],
      "metadata": {
        "id": "2xiD-ON_W3ts"
      },
      "execution_count": null,
      "outputs": []
    }
  ]
}