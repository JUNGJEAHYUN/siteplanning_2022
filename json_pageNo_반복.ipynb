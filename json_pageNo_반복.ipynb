{
  "nbformat": 4,
  "nbformat_minor": 0,
  "metadata": {
    "colab": {
      "name": "json_pageNo 반복",
      "provenance": [],
      "collapsed_sections": [],
      "authorship_tag": "ABX9TyOWbNsu3PuPUq2sStN5JVJS",
      "include_colab_link": true
    },
    "kernelspec": {
      "name": "python3",
      "display_name": "Python 3"
    },
    "language_info": {
      "name": "python"
    }
  },
  "cells": [
    {
      "cell_type": "markdown",
      "metadata": {
        "id": "view-in-github",
        "colab_type": "text"
      },
      "source": [
        "<a href=\"https://colab.research.google.com/github/JUNGJEAHYUN/siteplanning_2022/blob/master/json_pageNo_%EB%B0%98%EB%B3%B5.ipynb\" target=\"_parent\"><img src=\"https://colab.research.google.com/assets/colab-badge.svg\" alt=\"Open In Colab\"/></a>"
      ]
    },
    {
      "cell_type": "code",
      "execution_count": null,
      "metadata": {
        "id": "HE1PFnOS2WhP"
      },
      "outputs": [],
      "source": [
        "from urllib.parse import urlencode, unquote, quote\n",
        "import requests\n",
        "import json\n",
        "import urllib.request\n",
        "import pandas as pd\n",
        "from pandas.io.json import json_normalize"
      ]
    },
    {
      "cell_type": "code",
      "source": [
        "i=0\n",
        "while True:\n",
        "  try : \n",
        "    i=i+1\n",
        "    url = \"http://apis.data.go.kr/B553530/GHG_STATS_03/GHG_STATS_03_LIST\"\n",
        "    queryString = \"?\" + urlencode(\n",
        "        {\n",
        "          \"ServiceKey\": unquote(\"4xDvOpaV7CpTr1bm%2BC%2BzeisR0P3e35qVobSYmlq6Eu32Q2%2Bz78dS9nkGq%2BzsjsostMyGPaccfoFY4dxlwq65Ow%3D%3D\"),\n",
        "          \"pageNo\": i,\n",
        "          \"numOfRows\": \"100\",\n",
        "          \"apiType\": \"JSON\",\n",
        "          \"q3\": \"GHG\",\n",
        "          \"q6\": \"부산\"\n",
        "        }\n",
        "        )\n",
        "    queryURL = url + queryString\n",
        "    response = urllib.request.urlopen(queryURL)\n",
        "    json_str = response.read().decode(\"utf-8\")\n",
        "    json_object = json.loads(json_str)\n",
        "    \n",
        "    hsmpList = json_object['opentable']['field']\n",
        "    if i==1 : \n",
        "      df = pd.DataFrame(hsmpList)\n",
        "    else : \n",
        "      df_to_insert = pd.DataFrame(data=hsmpList)\n",
        "      df = df.append(df_to_insert, ignore_index=True)\n",
        "  except : \n",
        "    break"
      ],
      "metadata": {
        "id": "MHrncTPtIoWl"
      },
      "execution_count": null,
      "outputs": []
    },
    {
      "cell_type": "code",
      "source": [
        "data_list =[]\n",
        "\n",
        "for i in range(1,1000):\n",
        "\n",
        "  url = \"http://apis.data.go.kr/B553530/GHG_STATS_03/GHG_STATS_03_LIST\"\n",
        "  queryString = \"?\" + urlencode(\n",
        "  {\n",
        "    \"ServiceKey\": unquote(\"4xDvOpaV7CpTr1bm%2BC%2BzeisR0P3e35qVobSYmlq6Eu32Q2%2Bz78dS9nkGq%2BzsjsostMyGPaccfoFY4dxlwq65Ow%3D%3D\"),\n",
        "    \"pageNo\": i,\n",
        "    \"numOfRows\": \"100\",\n",
        "    \"apiType\": \"JSON\",\n",
        "    \"q6\": unquote(\"부산\")\n",
        "  }\n",
        "  )\n",
        "\n",
        "  queryURL = url + queryString\n",
        "\n",
        "  response = urllib.request.urlopen(queryURL)\n",
        "\n",
        "  json_str = response.read().decode(\"utf-8\")\n",
        "\n",
        "  json_object = json.loads(json_str)\n",
        "  try:\n",
        "    k = json_object['opentable']['field']\n",
        "    for j in k:\n",
        "      data_list.append(j)\n",
        "\n",
        "  except:\n",
        "    break\n",
        "\n",
        "  data = pd.DataFrame(data_list)\n",
        "\n",
        "print(data)"
      ],
      "metadata": {
        "id": "X00EYh5-_CrL"
      },
      "execution_count": null,
      "outputs": []
    },
    {
      "cell_type": "code",
      "source": [
        "df.info()"
      ],
      "metadata": {
        "colab": {
          "base_uri": "https://localhost:8080/"
        },
        "id": "1s3wIGG24wLX",
        "outputId": "7a5db827-c03c-4709-a326-4e425bf0bdc7"
      },
      "execution_count": null,
      "outputs": [
        {
          "output_type": "stream",
          "name": "stdout",
          "text": [
            "<class 'pandas.core.frame.DataFrame'>\n",
            "RangeIndex: 10152 entries, 0 to 10151\n",
            "Data columns (total 9 columns):\n",
            " #   Column             Non-Null Count  Dtype \n",
            "---  ------             --------------  ----- \n",
            " 0   DATA_REG_DT        10152 non-null  object\n",
            " 1   KSIC_CD            10152 non-null  object\n",
            " 2   ENGSRC_DVSN_NM     10152 non-null  object\n",
            " 3   ENGSRC_NM          10152 non-null  object\n",
            " 4   LOCL_DVSN_NM       10152 non-null  object\n",
            " 5   DATA_DVSN_CD       10152 non-null  object\n",
            " 6   USEMS_QNTY_NIDVAL  10152 non-null  object\n",
            " 7   TRGT_YEAR          10152 non-null  object\n",
            " 8   UNIT_NM            10152 non-null  object\n",
            "dtypes: object(9)\n",
            "memory usage: 713.9+ KB\n"
          ]
        }
      ]
    },
    {
      "cell_type": "code",
      "source": [
        "##csv형태로 저장\n",
        "df.to_csv('final.csv',encoding=' utf-8-sig')"
      ],
      "metadata": {
        "id": "Dg0Z3ZMM9Rih"
      },
      "execution_count": null,
      "outputs": []
    }
  ]
}