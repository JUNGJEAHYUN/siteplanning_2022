{
  "nbformat": 4,
  "nbformat_minor": 0,
  "metadata": {
    "colab": {
      "name": "건축물대장읽기.ipynb",
      "provenance": [],
      "collapsed_sections": [],
      "authorship_tag": "ABX9TyMSRbYIfVURiGnIHnWxFAjg",
      "include_colab_link": true
    },
    "kernelspec": {
      "name": "python3",
      "display_name": "Python 3"
    },
    "language_info": {
      "name": "python"
    }
  },
  "cells": [
    {
      "cell_type": "markdown",
      "metadata": {
        "id": "view-in-github",
        "colab_type": "text"
      },
      "source": [
        "<a href=\"https://colab.research.google.com/github/JUNGJEAHYUN/siteplanning_2022/blob/master/%EA%B1%B4%EC%B6%95%EB%AC%BC%EB%8C%80%EC%9E%A5%EC%9D%BD%EA%B8%B0.ipynb\" target=\"_parent\"><img src=\"https://colab.research.google.com/assets/colab-badge.svg\" alt=\"Open In Colab\"/></a>"
      ]
    },
    {
      "cell_type": "code",
      "execution_count": null,
      "metadata": {
        "id": "82H-MXmZThU8",
        "colab": {
          "base_uri": "https://localhost:8080/"
        },
        "outputId": "ebbfe419-bd9d-4058-db57-ece7967eef92"
      },
      "outputs": [
        {
          "output_type": "stream",
          "name": "stdout",
          "text": [
            "Drive already mounted at /content/gdrive; to attempt to forcibly remount, call drive.mount(\"/content/gdrive\", force_remount=True).\n"
          ]
        }
      ],
      "source": [
        "# 구글 드라이브 연결\n",
        "from google.colab import drive\n",
        "drive.mount('/content/gdrive')"
      ]
    },
    {
      "cell_type": "code",
      "source": [
        "# 해당 파일 불러오기\n",
        "url='/content/gdrive/MyDrive/mart_djy_03.txt'"
      ],
      "metadata": {
        "id": "rwGHJeW6uspy"
      },
      "execution_count": null,
      "outputs": []
    },
    {
      "cell_type": "code",
      "source": [
        "import pandas as pd\n",
        "import numpy as np"
      ],
      "metadata": {
        "id": "EgN4NAw8u879"
      },
      "execution_count": null,
      "outputs": []
    },
    {
      "cell_type": "code",
      "source": [
        "f = open(url, 'r')\n",
        "print(f)"
      ],
      "metadata": {
        "id": "-vYDtj5q2PGy",
        "colab": {
          "base_uri": "https://localhost:8080/"
        },
        "outputId": "53956228-98f6-4f99-cb53-d1e464f9e031"
      },
      "execution_count": null,
      "outputs": [
        {
          "output_type": "stream",
          "name": "stdout",
          "text": [
            "<_io.TextIOWrapper name='/content/gdrive/MyDrive/mart_djy_03.txt' mode='r' encoding='UTF-8'>\n"
          ]
        }
      ]
    },
    {
      "cell_type": "code",
      "source": [
        "# 텍스트 파일 읽기\n",
        "f = open(url, 'r',encoding = 'cp949')\n",
        "line = f.readline()\n",
        "print(line)\n",
        "f.close()"
      ],
      "metadata": {
        "colab": {
          "base_uri": "https://localhost:8080/"
        },
        "id": "1SoRpXyR2zYu",
        "outputId": "05c7653b-eb86-448e-d594-ebbff5c1b65f"
      },
      "execution_count": null,
      "outputs": [
        {
          "output_type": "stream",
          "name": "stdout",
          "text": [
            "27710-2357|1|일반|2|일반건축물|대구광역시 달성군 화원읍 천내리 154-3번지| 대구광역시 달성군 화원읍 화원로1길 67-7||27710|25021|0|0154|0003||||0|277104244599|25001|0|67|7||0|주건축물|632.5|267.6|42.31|377.68|377.68|59.72|21|철근콘크리트구조|철근콘크리트,조적조|03000|제1종근린생활시설|근린생활시설|10|(철근)콘크리트|스라브|0|1|0|2|0|0|0|2|114.56|377.68|0|0|0|0|0|0|0|0|19830215||19831114||||||0||0|0||0||0|20110414||\n",
            "\n"
          ]
        }
      ]
    },
    {
      "cell_type": "code",
      "source": [
        "# 텍스트 파일 문자열로 나누기\n",
        "line_1 = line.split('|')\n",
        "print(line_1)"
      ],
      "metadata": {
        "colab": {
          "base_uri": "https://localhost:8080/"
        },
        "id": "3bg4jB_T3nkg",
        "outputId": "7d5d1ae4-999b-4fed-acf5-3c9bca67e123"
      },
      "execution_count": null,
      "outputs": [
        {
          "output_type": "stream",
          "name": "stdout",
          "text": [
            "['27710-2357', '1', '일반', '2', '일반건축물', '대구광역시 달성군 화원읍 천내리 154-3번지', ' 대구광역시 달성군 화원읍 화원로1길 67-7', '', '27710', '25021', '0', '0154', '0003', '', '', '', '0', '277104244599', '25001', '0', '67', '7', '', '0', '주건축물', '632.5', '267.6', '42.31', '377.68', '377.68', '59.72', '21', '철근콘크리트구조', '철근콘크리트,조적조', '03000', '제1종근린생활시설', '근린생활시설', '10', '(철근)콘크리트', '스라브', '0', '1', '0', '2', '0', '0', '0', '2', '114.56', '377.68', '0', '0', '0', '0', '0', '0', '0', '0', '19830215', '', '19831114', '', '', '', '', '', '0', '', '0', '0', '', '0', '', '0', '20110414', '', '\\n']\n"
          ]
        }
      ]
    },
    {
      "cell_type": "code",
      "source": [
        "# 텍스트 파일 데이터프레임(2차원 데이터)으로 변환하기 (예 : [[0,0,0],[0,0,0],[0,0,0],[0,0,0], ...])\n",
        "new_list =[]\n",
        "f = open(url, 'r',encoding = 'cp949')\n",
        "\n",
        "while True:\n",
        "    data=[]\n",
        "    line = f.readline()\n",
        "    if not line: break\n",
        "    Line_1 = line.split('|')\n",
        "    data=[Line_1[0],Line_1[5],Line_1[6],Line_1[28],Line_1[35],Line_1[36]]\n",
        "    new_list.append(data)\n",
        "\n",
        "f.close()"
      ],
      "metadata": {
        "id": "RU6SUCEO38kb"
      },
      "execution_count": null,
      "outputs": []
    },
    {
      "cell_type": "code",
      "source": [
        "df = pd.DataFrame(new_list)"
      ],
      "metadata": {
        "id": "RhSkUqn3vHrC"
      },
      "execution_count": null,
      "outputs": []
    },
    {
      "cell_type": "code",
      "source": [
        "df.columns = ['PK','지번주소','도로명주소','연면적','주용도','기타용도']"
      ],
      "metadata": {
        "id": "BgJTpCVr692N"
      },
      "execution_count": null,
      "outputs": []
    },
    {
      "cell_type": "code",
      "source": [
        "df.info()"
      ],
      "metadata": {
        "colab": {
          "base_uri": "https://localhost:8080/"
        },
        "id": "mHdRSZGl9SmU",
        "outputId": "5f145848-2adc-40b8-cca7-83054c60f1d1"
      },
      "execution_count": null,
      "outputs": [
        {
          "output_type": "stream",
          "name": "stdout",
          "text": [
            "<class 'pandas.core.frame.DataFrame'>\n",
            "RangeIndex: 7886870 entries, 0 to 7886869\n",
            "Data columns (total 6 columns):\n",
            " #   Column  Dtype \n",
            "---  ------  ----- \n",
            " 0   PK      object\n",
            " 1   지번주소    object\n",
            " 2   도로명주소   object\n",
            " 3   연면적     object\n",
            " 4   주용도     object\n",
            " 5   기타용도    object\n",
            "dtypes: object(6)\n",
            "memory usage: 361.0+ MB\n"
          ]
        }
      ]
    },
    {
      "cell_type": "code",
      "source": [
        "df.isnull().sum()"
      ],
      "metadata": {
        "id": "s1o0A0x0xjcn",
        "colab": {
          "base_uri": "https://localhost:8080/"
        },
        "outputId": "41366327-2218-49f6-97a3-f526554cde8b"
      },
      "execution_count": null,
      "outputs": [
        {
          "output_type": "execute_result",
          "data": {
            "text/plain": [
              "PK       0\n",
              "지번주소     0\n",
              "도로명주소    0\n",
              "연면적      0\n",
              "주용도      0\n",
              "기타용도     0\n",
              "dtype: int64"
            ]
          },
          "metadata": {},
          "execution_count": 14
        }
      ]
    },
    {
      "cell_type": "code",
      "source": [
        "BS = df[df['지번주소'].str.contains('부산광역시')]"
      ],
      "metadata": {
        "id": "e7XNuQyNP9WT"
      },
      "execution_count": null,
      "outputs": []
    },
    {
      "cell_type": "code",
      "source": [
        "BS.info()"
      ],
      "metadata": {
        "colab": {
          "base_uri": "https://localhost:8080/"
        },
        "id": "uybBjT1HRry4",
        "outputId": "7810c9cc-fda3-4f70-ace8-72fc94d2e09d"
      },
      "execution_count": null,
      "outputs": [
        {
          "output_type": "stream",
          "name": "stdout",
          "text": [
            "<class 'pandas.core.frame.DataFrame'>\n",
            "Int64Index: 363106 entries, 49 to 7886869\n",
            "Data columns (total 6 columns):\n",
            " #   Column  Non-Null Count   Dtype \n",
            "---  ------  --------------   ----- \n",
            " 0   PK      363106 non-null  object\n",
            " 1   지번주소    363106 non-null  object\n",
            " 2   도로명주소   363106 non-null  object\n",
            " 3   연면적     363106 non-null  object\n",
            " 4   주용도     363106 non-null  object\n",
            " 5   기타용도    363106 non-null  object\n",
            "dtypes: object(6)\n",
            "memory usage: 19.4+ MB\n"
          ]
        }
      ]
    },
    {
      "cell_type": "code",
      "source": [
        "BS_1 = BS[BS['주용도'].str.contains('근린생활')]"
      ],
      "metadata": {
        "id": "g_xt8vvhTzPG"
      },
      "execution_count": null,
      "outputs": []
    }
  ]
}