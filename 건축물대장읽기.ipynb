{
  "nbformat": 4,
  "nbformat_minor": 0,
  "metadata": {
    "colab": {
      "name": "건축물대장읽기.ipynb의 사본",
      "provenance": [],
      "collapsed_sections": [],
      "authorship_tag": "ABX9TyOiAVBHRxDKZNcipNcIyPw6",
      "include_colab_link": true
    },
    "kernelspec": {
      "name": "python3",
      "display_name": "Python 3"
    },
    "language_info": {
      "name": "python"
    }
  },
  "cells": [
    {
      "cell_type": "markdown",
      "metadata": {
        "id": "view-in-github",
        "colab_type": "text"
      },
      "source": [
        "<a href=\"https://colab.research.google.com/github/JUNGJEAHYUN/siteplanning_2022/blob/master/%EA%B1%B4%EC%B6%95%EB%AC%BC%EB%8C%80%EC%9E%A5%EC%9D%BD%EA%B8%B0.ipynb\" target=\"_parent\"><img src=\"https://colab.research.google.com/assets/colab-badge.svg\" alt=\"Open In Colab\"/></a>"
      ]
    },
    {
      "cell_type": "code",
      "execution_count": 2,
      "metadata": {
        "id": "82H-MXmZThU8",
        "colab": {
          "base_uri": "https://localhost:8080/"
        },
        "outputId": "9bf2fc34-f3fa-490a-bb50-2af15fe95333"
      },
      "outputs": [
        {
          "output_type": "stream",
          "name": "stdout",
          "text": [
            "Mounted at /content/gdrive\n"
          ]
        }
      ],
      "source": [
        "# 구글 드라이브 연결(해당파일을 사전에 구글 드라이브로 업로드 필요)\n",
        "from google.colab import drive\n",
        "drive.mount('/content/gdrive')"
      ]
    },
    {
      "cell_type": "code",
      "source": [
        "# 경로로 파일 불러오기\n",
        "url='/content/gdrive/MyDrive/mart_djy_03.txt'"
      ],
      "metadata": {
        "id": "rwGHJeW6uspy"
      },
      "execution_count": 3,
      "outputs": []
    },
    {
      "cell_type": "code",
      "source": [
        "# pandas 불러오기\n",
        "import pandas as pd"
      ],
      "metadata": {
        "id": "EgN4NAw8u879"
      },
      "execution_count": 4,
      "outputs": []
    },
    {
      "cell_type": "code",
      "source": [
        "# 텍스트 파일 확인하기\n",
        "f = open(url, 'r',encoding = 'cp949')\n",
        "line = f.readline()\n",
        "print(line)\n",
        "f.close()"
      ],
      "metadata": {
        "colab": {
          "base_uri": "https://localhost:8080/"
        },
        "id": "1SoRpXyR2zYu",
        "outputId": "989c9fe7-2acc-4e6b-fbfa-61d4cada50bc"
      },
      "execution_count": 5,
      "outputs": [
        {
          "output_type": "stream",
          "name": "stdout",
          "text": [
            "27710-2357|1|일반|2|일반건축물|대구광역시 달성군 화원읍 천내리 154-3번지| 대구광역시 달성군 화원읍 화원로1길 67-7||27710|25021|0|0154|0003||||0|277104244599|25001|0|67|7||0|주건축물|632.5|267.6|42.31|377.68|377.68|59.72|21|철근콘크리트구조|철근콘크리트,조적조|03000|제1종근린생활시설|근린생활시설|10|(철근)콘크리트|스라브|0|1|0|2|0|0|0|2|114.56|377.68|0|0|0|0|0|0|0|0|19830215||19831114||||||0||0|0||0||0|20110414||\n",
            "\n"
          ]
        }
      ]
    },
    {
      "cell_type": "code",
      "source": [
        "# 건축물대장 전체 텍스트 파일 데이터프레임(2차원 데이터)으로 변환하기 (예 : [[0,0,0],[0,0,0],[0,0,0],[0,0,0], ...])\n",
        "new_list =[]\n",
        "f = open(url, 'r',encoding = 'cp949')\n",
        "\n",
        "while True:\n",
        "    data=[]\n",
        "    line = f.readline()\n",
        "    if not line: break\n",
        "    Line_1 = line.split('|')\n",
        "    # 일부 열만 저장해야할 때 열 번호 넣기 (예: 1열 -> 0, 2열 -> 1), 전체 저장하려면 삭제\n",
        "    data=[Line_1[0],Line_1[5],Line_1[6],Line_1[28],Line_1[35],Line_1[36]]\n",
        "    new_list.append(data)\n",
        "\n",
        "f.close()"
      ],
      "metadata": {
        "id": "RU6SUCEO38kb"
      },
      "execution_count": 7,
      "outputs": []
    },
    {
      "cell_type": "code",
      "source": [
        "# new_list 새로운 데이터프레임으로 만들기\n",
        "df = pd.DataFrame(new_list)"
      ],
      "metadata": {
        "id": "RhSkUqn3vHrC"
      },
      "execution_count": 8,
      "outputs": []
    },
    {
      "cell_type": "code",
      "source": [
        "# 데이터프레임 열 이름 지정\n",
        "df.columns = ['PK','지번주소','도로명주소','연면적','주용도','기타용도']"
      ],
      "metadata": {
        "id": "BgJTpCVr692N"
      },
      "execution_count": 9,
      "outputs": []
    },
    {
      "cell_type": "code",
      "source": [
        "# 속성 확인\n",
        "df.info()"
      ],
      "metadata": {
        "colab": {
          "base_uri": "https://localhost:8080/"
        },
        "id": "mHdRSZGl9SmU",
        "outputId": "d5bacbbd-3ea3-40c7-a415-a3ea1163c97a"
      },
      "execution_count": 10,
      "outputs": [
        {
          "output_type": "stream",
          "name": "stdout",
          "text": [
            "<class 'pandas.core.frame.DataFrame'>\n",
            "RangeIndex: 7886870 entries, 0 to 7886869\n",
            "Data columns (total 6 columns):\n",
            " #   Column  Dtype \n",
            "---  ------  ----- \n",
            " 0   PK      object\n",
            " 1   지번주소    object\n",
            " 2   도로명주소   object\n",
            " 3   연면적     object\n",
            " 4   주용도     object\n",
            " 5   기타용도    object\n",
            "dtypes: object(6)\n",
            "memory usage: 361.0+ MB\n"
          ]
        }
      ]
    },
    {
      "cell_type": "code",
      "source": [
        "# 결측치확인\n",
        "df.isnull().sum()"
      ],
      "metadata": {
        "id": "s1o0A0x0xjcn",
        "colab": {
          "base_uri": "https://localhost:8080/"
        },
        "outputId": "c9df812b-1f13-49bb-abe9-a866ba64acc1"
      },
      "execution_count": 11,
      "outputs": [
        {
          "output_type": "execute_result",
          "data": {
            "text/plain": [
              "PK       0\n",
              "지번주소     0\n",
              "도로명주소    0\n",
              "연면적      0\n",
              "주용도      0\n",
              "기타용도     0\n",
              "dtype: int64"
            ]
          },
          "metadata": {},
          "execution_count": 11
        }
      ]
    },
    {
      "cell_type": "code",
      "source": [
        "# 특정 열에 해당항목 필터링, BS 데이터 프레임 저장\n",
        "BS = df[df['지번주소'].str.contains('부산광역시')]"
      ],
      "metadata": {
        "id": "e7XNuQyNP9WT"
      },
      "execution_count": 12,
      "outputs": []
    },
    {
      "cell_type": "code",
      "source": [
        "# 특정 열에 해당항목 필터링, BS_1 데이터 프레임 저장\n",
        "BS_1 = BS[BS['주용도'].str.contains('근린생활')]"
      ],
      "metadata": {
        "id": "g_xt8vvhTzPG"
      },
      "execution_count": 13,
      "outputs": []
    },
    {
      "cell_type": "code",
      "source": [
        "BS_1.to_csv('fianl.csv',encoding='utf-8-sig')\n",
        "# 왼쪽 파일 새로고침을 누르면 저장된 파일이 나옴"
      ],
      "metadata": {
        "id": "WuT8CL-n4mQJ"
      },
      "execution_count": 15,
      "outputs": []
    }
  ]
}