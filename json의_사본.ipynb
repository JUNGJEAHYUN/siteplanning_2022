{
  "nbformat": 4,
  "nbformat_minor": 0,
  "metadata": {
    "colab": {
      "name": "json의 사본",
      "provenance": [],
      "authorship_tag": "ABX9TyNd83uPhw0wnDoaML3cjnxU",
      "include_colab_link": true
    },
    "kernelspec": {
      "name": "python3",
      "display_name": "Python 3"
    },
    "language_info": {
      "name": "python"
    }
  },
  "cells": [
    {
      "cell_type": "markdown",
      "metadata": {
        "id": "view-in-github",
        "colab_type": "text"
      },
      "source": [
        "<a href=\"https://colab.research.google.com/github/JUNGJEAHYUN/siteplanning_2022/blob/master/json%EC%9D%98_%EC%82%AC%EB%B3%B8.ipynb\" target=\"_parent\"><img src=\"https://colab.research.google.com/assets/colab-badge.svg\" alt=\"Open In Colab\"/></a>"
      ]
    },
    {
      "cell_type": "code",
      "execution_count": 1,
      "metadata": {
        "id": "HE1PFnOS2WhP"
      },
      "outputs": [],
      "source": [
        "from urllib.parse import urlencode, unquote\n",
        "import requests\n",
        "import json\n",
        "import urllib.request\n",
        "import pandas as pd\n",
        "from pandas.io.json import json_normalize"
      ]
    },
    {
      "cell_type": "code",
      "source": [
        "url = \"http://apis.data.go.kr/B553530/GHG_STATS_03/GHG_STATS_03_LIST\"\n",
        "queryString = \"?\" + urlencode(\n",
        "{\n",
        "  \"ServiceKey\": unquote(\"4xDvOpaV7CpTr1bm%2BC%2BzeisR0P3e35qVobSYmlq6Eu32Q2%2Bz78dS9nkGq%2BzsjsostMyGPaccfoFY4dxlwq65Ow%3D%3D\"),\n",
        "  \"numOfRows\": \"10000000000\",\n",
        "  \"pageNo\": 1,\n",
        "  \"apiType\": \"JSON\",\n",
        "  \"q6\": \"부산\"\n",
        "}\n",
        ")"
      ],
      "metadata": {
        "id": "3aO_VGST3bWR"
      },
      "execution_count": 10,
      "outputs": []
    },
    {
      "cell_type": "code",
      "source": [
        "## URL 만들기\n",
        "queryURL = url + queryString"
      ],
      "metadata": {
        "id": "YHlvh0_u3eFv"
      },
      "execution_count": 11,
      "outputs": []
    },
    {
      "cell_type": "code",
      "source": [
        "## URL 불러오기 \n",
        "response = urllib.request.urlopen(queryURL)"
      ],
      "metadata": {
        "id": "tGX-AWCO3g-z"
      },
      "execution_count": 12,
      "outputs": []
    },
    {
      "cell_type": "code",
      "source": [
        "## json에 있는 데이터를  utf-8코드로 변환(한글일 경우 그대로 읽어오면 문자가 깨짐)\n",
        "json_str = response.read().decode(\"utf-8\")"
      ],
      "metadata": {
        "id": "x6I8VaGE3lcX"
      },
      "execution_count": 13,
      "outputs": []
    },
    {
      "cell_type": "code",
      "source": [
        "##가져온 json에 있는 문자열을 읽어옴 \n",
        "json_object = json.loads(json_str) # 표출해보면 dictionary 형태로 정렬되어있는 것을 볼 수 있음\n",
        "print(json_object)"
      ],
      "metadata": {
        "id": "PQ3bguf93oHF",
        "colab": {
          "base_uri": "https://localhost:8080/"
        },
        "outputId": "0fa48d84-d562-4fe2-feca-f2a0e1986930"
      },
      "execution_count": 18,
      "outputs": [
        {
          "output_type": "stream",
          "name": "stdout",
          "text": [
            "{'pageNo': '1', 'totalCount': 94893, 'numOfRows': '-1', 'opentable': {}}\n"
          ]
        }
      ]
    },
    {
      "cell_type": "code",
      "source": [
        "##json에 hsmpList에 있는 dictionary 형태의 데이터를 배열로 만듦\n",
        "hsmpList = [json_object['opentable']]"
      ],
      "metadata": {
        "id": "myRItw6p3rLE"
      },
      "execution_count": 15,
      "outputs": []
    },
    {
      "cell_type": "code",
      "source": [
        "##df_house 변수에 DataFrame으로 생성된 객체를 넣음\n",
        "df_house = pd.DataFrame(json_object['opentable'])"
      ],
      "metadata": {
        "id": "VsLNBGwC3tzq"
      },
      "execution_count": 16,
      "outputs": []
    },
    {
      "cell_type": "code",
      "source": [
        "df_house.head()"
      ],
      "metadata": {
        "colab": {
          "base_uri": "https://localhost:8080/",
          "height": 49
        },
        "id": "gE7zIGFO3znz",
        "outputId": "4c920e3a-8098-484f-9d35-f473709b19c8"
      },
      "execution_count": 17,
      "outputs": [
        {
          "output_type": "execute_result",
          "data": {
            "text/html": [
              "\n",
              "  <div id=\"df-dbc580ea-0fd1-48da-98b4-9aaf6b19bb58\">\n",
              "    <div class=\"colab-df-container\">\n",
              "      <div>\n",
              "<style scoped>\n",
              "    .dataframe tbody tr th:only-of-type {\n",
              "        vertical-align: middle;\n",
              "    }\n",
              "\n",
              "    .dataframe tbody tr th {\n",
              "        vertical-align: top;\n",
              "    }\n",
              "\n",
              "    .dataframe thead th {\n",
              "        text-align: right;\n",
              "    }\n",
              "</style>\n",
              "<table border=\"1\" class=\"dataframe\">\n",
              "  <thead>\n",
              "    <tr style=\"text-align: right;\">\n",
              "      <th></th>\n",
              "    </tr>\n",
              "  </thead>\n",
              "  <tbody>\n",
              "  </tbody>\n",
              "</table>\n",
              "</div>\n",
              "      <button class=\"colab-df-convert\" onclick=\"convertToInteractive('df-dbc580ea-0fd1-48da-98b4-9aaf6b19bb58')\"\n",
              "              title=\"Convert this dataframe to an interactive table.\"\n",
              "              style=\"display:none;\">\n",
              "        \n",
              "  <svg xmlns=\"http://www.w3.org/2000/svg\" height=\"24px\"viewBox=\"0 0 24 24\"\n",
              "       width=\"24px\">\n",
              "    <path d=\"M0 0h24v24H0V0z\" fill=\"none\"/>\n",
              "    <path d=\"M18.56 5.44l.94 2.06.94-2.06 2.06-.94-2.06-.94-.94-2.06-.94 2.06-2.06.94zm-11 1L8.5 8.5l.94-2.06 2.06-.94-2.06-.94L8.5 2.5l-.94 2.06-2.06.94zm10 10l.94 2.06.94-2.06 2.06-.94-2.06-.94-.94-2.06-.94 2.06-2.06.94z\"/><path d=\"M17.41 7.96l-1.37-1.37c-.4-.4-.92-.59-1.43-.59-.52 0-1.04.2-1.43.59L10.3 9.45l-7.72 7.72c-.78.78-.78 2.05 0 2.83L4 21.41c.39.39.9.59 1.41.59.51 0 1.02-.2 1.41-.59l7.78-7.78 2.81-2.81c.8-.78.8-2.07 0-2.86zM5.41 20L4 18.59l7.72-7.72 1.47 1.35L5.41 20z\"/>\n",
              "  </svg>\n",
              "      </button>\n",
              "      \n",
              "  <style>\n",
              "    .colab-df-container {\n",
              "      display:flex;\n",
              "      flex-wrap:wrap;\n",
              "      gap: 12px;\n",
              "    }\n",
              "\n",
              "    .colab-df-convert {\n",
              "      background-color: #E8F0FE;\n",
              "      border: none;\n",
              "      border-radius: 50%;\n",
              "      cursor: pointer;\n",
              "      display: none;\n",
              "      fill: #1967D2;\n",
              "      height: 32px;\n",
              "      padding: 0 0 0 0;\n",
              "      width: 32px;\n",
              "    }\n",
              "\n",
              "    .colab-df-convert:hover {\n",
              "      background-color: #E2EBFA;\n",
              "      box-shadow: 0px 1px 2px rgba(60, 64, 67, 0.3), 0px 1px 3px 1px rgba(60, 64, 67, 0.15);\n",
              "      fill: #174EA6;\n",
              "    }\n",
              "\n",
              "    [theme=dark] .colab-df-convert {\n",
              "      background-color: #3B4455;\n",
              "      fill: #D2E3FC;\n",
              "    }\n",
              "\n",
              "    [theme=dark] .colab-df-convert:hover {\n",
              "      background-color: #434B5C;\n",
              "      box-shadow: 0px 1px 3px 1px rgba(0, 0, 0, 0.15);\n",
              "      filter: drop-shadow(0px 1px 2px rgba(0, 0, 0, 0.3));\n",
              "      fill: #FFFFFF;\n",
              "    }\n",
              "  </style>\n",
              "\n",
              "      <script>\n",
              "        const buttonEl =\n",
              "          document.querySelector('#df-dbc580ea-0fd1-48da-98b4-9aaf6b19bb58 button.colab-df-convert');\n",
              "        buttonEl.style.display =\n",
              "          google.colab.kernel.accessAllowed ? 'block' : 'none';\n",
              "\n",
              "        async function convertToInteractive(key) {\n",
              "          const element = document.querySelector('#df-dbc580ea-0fd1-48da-98b4-9aaf6b19bb58');\n",
              "          const dataTable =\n",
              "            await google.colab.kernel.invokeFunction('convertToInteractive',\n",
              "                                                     [key], {});\n",
              "          if (!dataTable) return;\n",
              "\n",
              "          const docLinkHtml = 'Like what you see? Visit the ' +\n",
              "            '<a target=\"_blank\" href=https://colab.research.google.com/notebooks/data_table.ipynb>data table notebook</a>'\n",
              "            + ' to learn more about interactive tables.';\n",
              "          element.innerHTML = '';\n",
              "          dataTable['output_type'] = 'display_data';\n",
              "          await google.colab.output.renderOutput(dataTable, element);\n",
              "          const docLink = document.createElement('div');\n",
              "          docLink.innerHTML = docLinkHtml;\n",
              "          element.appendChild(docLink);\n",
              "        }\n",
              "      </script>\n",
              "    </div>\n",
              "  </div>\n",
              "  "
            ],
            "text/plain": [
              "Empty DataFrame\n",
              "Columns: []\n",
              "Index: []"
            ]
          },
          "metadata": {},
          "execution_count": 17
        }
      ]
    },
    {
      "cell_type": "code",
      "source": [
        "##csv형태로 저장\n",
        "df_house.to_csv('final'.csv',encoding=' utf-8-sig')"
      ],
      "metadata": {
        "id": "9b8Ok8hA3_Pc"
      },
      "execution_count": null,
      "outputs": []
    }
  ]
}